{
 "cells": [
  {
   "cell_type": "markdown",
   "metadata": {},
   "source": [
    "<div class=\"alert alert-info\">\n",
    "<font size=\"4\", color = \"black\"><b>✍ Комментарий студента</b></font>\n",
    "    <br /> \n",
    "    <font size=\"3\", color = \"black\">\n",
    "<br /> Приветствую! Меня зовут Елена, ко мне можно и нужно на ты! Если не затруднит, пожалуйста оптимизируй запрос, даже если мой запрос правильный. Хочется научится делать круче)) Спасибо заранее)\n"
   ]
  },
  {
   "cell_type": "markdown",
   "metadata": {},
   "source": [
    "<div style=\"border:solid lightblue 3px; background:#f7faf8; padding: 20px\">\n",
    "<b>Елена, привет!</b>\n",
    "\n",
    "Меня зовут Владимир Бердников, и я буду проверять твой проект. Пожалуйста, не перемещай, не удаляй и не правь мои комментарии. Всё это поможет выполнить повторную проверку твоего проекта оперативнее.\n",
    "\n",
    "При проверке работы я буду отмечать комментарии цветом и примечанием. В конце заголовка комментария указан номер итерации проверки.\n",
    "\n",
    "<div class=\"alert alert-block alert-danger\" style=\"border-radius: 15px; box-shadow: 4px 4px 4px; border: 1px solid \">\n",
    "<h2> Комментарий ревьюера v_1: <a class=\"tocSkip\"></h2>\n",
    "    \n",
    "❌ Комментарии такого цвета нужно исправить, иначе проект не будет принят. \n",
    "</div>\n",
    "\n",
    "<div class=\"alert alert-warning\" style=\"border-radius: 15px; box-shadow: 4px 4px 4px; border: 1px solid \">\n",
    "<h2> Комментарий ревьюера v_1: <a class=\"tocSkip\"> </h2>\n",
    "    \n",
    "⚠️ Такой комментарий является рекомендацией или советом. Mожешь учесть их при выполнении заданий, но их не должно быть больше трех.\n",
    "</div>\n",
    "\n",
    "<div class=\"alert alert-success\" style=\"border-radius: 15px; box-shadow: 4px 4px 4px; border: 1px solid \">\n",
    "<h2> Комментарий ревьюера v_1: <a class=\"tocSkip\"> </h2>\n",
    "    \n",
    "✅ Так выделены все остальные комментарии, включая позитивные моменты, пояснения и рассуждения.\n",
    "</div>  \n",
    "    \n",
    "Давай работать над проектом в диалоге: если ты что-то меняешь в проекте — пиши об этом в комментариях, например, с помощью такого кода в markdown ячейке:\n",
    "</div>"
   ]
  },
  {
   "cell_type": "markdown",
   "metadata": {},
   "source": [
    "<div class=\"alert alert-info\"  style=\"border-radius: 15px; box-shadow: 4px 4px 4px; border: 1px solid \">\n",
    "    \n",
    "<h2>Комментарий студента v_1: <a class=\"tocSkip\"> </h2>\n",
    "\n",
    "Ок.   \n",
    "</div>"
   ]
  },
  {
   "cell_type": "markdown",
   "metadata": {
    "id": "sRW85nPMDWKb"
   },
   "source": [
    "В этой части проекта вам нужно написать несколько SQL-запросов в Jupyter Notebook. Эти задания проверят вручную, и вы получите комментарии к составленным запросам. \n",
    "\n",
    "Необходимые данные находятся в таблицах схемы `stackoverflow`. Не забудьте подключиться к базе с помощью SQLAlchemy. Вспомните инструкцию из урока 11 «Когортный анализ. Представление результатов» в теме 4 «Установка и настройка базы данных и клиента базы данных».. Пример кода для подключения к базе и выгрузки результатов вы найдёте и в этой тетрадке. \n",
    "\n",
    "Некоторые задания включают дополнительные вопросы — не пропустите их. На часть вопросов можно ответить текстом, а для некоторых понадобится визуализация. Помните, что результат запроса можно выгрузить в датафрейм. \n",
    "\n",
    "Чтобы ожидаемый результат было легче представить, мы добавили к каждому заданию небольшой фрагмент итоговой таблицы. В запросах вы можете использовать любые подходящие названия полей."
   ]
  },
  {
   "cell_type": "code",
   "execution_count": null,
   "metadata": {},
   "outputs": [],
   "source": []
  },
  {
   "cell_type": "code",
   "execution_count": 1,
   "metadata": {},
   "outputs": [
    {
     "name": "stdout",
     "output_type": "stream",
     "text": [
      "Requirement already satisfied: sqlalchemy in /opt/conda/lib/python3.9/site-packages (1.4.20)\n",
      "Requirement already satisfied: greenlet!=0.4.17 in /opt/conda/lib/python3.9/site-packages (from sqlalchemy) (1.1.0)\n"
     ]
    }
   ],
   "source": [
    "!pip install sqlalchemy "
   ]
  },
  {
   "cell_type": "code",
   "execution_count": 2,
   "metadata": {
    "id": "nlZBlglMDWKe"
   },
   "outputs": [],
   "source": [
    "import pandas as pd\n",
    "import matplotlib.pyplot as plt\n",
    "import seaborn as sns\n",
    "from sqlalchemy import create_engine "
   ]
  },
  {
   "cell_type": "markdown",
   "metadata": {
    "id": "XnOE3n28DWKg"
   },
   "source": [
    "### Конфигурация для подключения к базе данных `data-analyst-advanced-sql`\n",
    "Эта база данных содержит схему `stackoverflow`, с которой вы будете работать в проекте"
   ]
  },
  {
   "cell_type": "code",
   "execution_count": 3,
   "metadata": {
    "id": "6p-yGp7qDWKg"
   },
   "outputs": [],
   "source": [
    "db_config = {\n",
    "    'user': 'praktikum_student', # имя пользователя\n",
    "    'pwd': 'Sdf4$2;d-d30pp', # пароль\n",
    "    'host': 'rc1b-wcoijxj3yxfsf3fs.mdb.yandexcloud.net',\n",
    "    'port': 6432, # порт подключения\n",
    "    'db': 'data-analyst-advanced-sql' # название базы данных\n",
    "}  \n",
    "\n",
    "connection_string = 'postgresql://{}:{}@{}:{}/{}'.format(\n",
    "    db_config['user'],\n",
    "    db_config['pwd'],\n",
    "    db_config['host'],\n",
    "    db_config['port'],\n",
    "    db_config['db'],\n",
    ")"
   ]
  },
  {
   "cell_type": "markdown",
   "metadata": {
    "id": "2Rg8ZpS0DWKh"
   },
   "source": [
    "Создание подключения"
   ]
  },
  {
   "cell_type": "code",
   "execution_count": 4,
   "metadata": {
    "id": "DamCUTR6DWKi"
   },
   "outputs": [],
   "source": [
    "engine = create_engine(connection_string) "
   ]
  },
  {
   "cell_type": "markdown",
   "metadata": {
    "id": "bel8XeSlDWKj"
   },
   "source": [
    "Пример запроса к базе данных\n",
    "\n",
    "`sample_df` является pandas-датафреймом."
   ]
  },
  {
   "cell_type": "code",
   "execution_count": 5,
   "metadata": {
    "id": "6Z_fw0yLDWKk"
   },
   "outputs": [],
   "source": [
    "query = '''\n",
    "SELECT *\n",
    "FROM stackoverflow.users\n",
    "LIMIT 10;\n",
    "'''\n",
    "\n",
    "sample_df = pd.read_sql_query(query, con=engine) "
   ]
  },
  {
   "cell_type": "code",
   "execution_count": 6,
   "metadata": {
    "id": "ZpuZ290oDWKk",
    "outputId": "22785a0a-e2bc-4559-ec3c-4879c4b377eb"
   },
   "outputs": [
    {
     "data": {
      "text/html": [
       "<div>\n",
       "<style scoped>\n",
       "    .dataframe tbody tr th:only-of-type {\n",
       "        vertical-align: middle;\n",
       "    }\n",
       "\n",
       "    .dataframe tbody tr th {\n",
       "        vertical-align: top;\n",
       "    }\n",
       "\n",
       "    .dataframe thead th {\n",
       "        text-align: right;\n",
       "    }\n",
       "</style>\n",
       "<table border=\"1\" class=\"dataframe\">\n",
       "  <thead>\n",
       "    <tr style=\"text-align: right;\">\n",
       "      <th></th>\n",
       "      <th>id</th>\n",
       "      <th>creation_date</th>\n",
       "      <th>display_name</th>\n",
       "      <th>last_access_date</th>\n",
       "      <th>location</th>\n",
       "      <th>reputation</th>\n",
       "      <th>views</th>\n",
       "    </tr>\n",
       "  </thead>\n",
       "  <tbody>\n",
       "    <tr>\n",
       "      <th>0</th>\n",
       "      <td>1</td>\n",
       "      <td>2008-07-31 14:22:31</td>\n",
       "      <td>Jeff Atwood</td>\n",
       "      <td>2018-08-29 02:34:23</td>\n",
       "      <td>El Cerrito, CA</td>\n",
       "      <td>44300</td>\n",
       "      <td>408587</td>\n",
       "    </tr>\n",
       "    <tr>\n",
       "      <th>1</th>\n",
       "      <td>2</td>\n",
       "      <td>2008-07-31 14:22:31</td>\n",
       "      <td>Geoff Dalgas</td>\n",
       "      <td>2018-08-23 17:31:56</td>\n",
       "      <td>Corvallis, OR</td>\n",
       "      <td>3491</td>\n",
       "      <td>23966</td>\n",
       "    </tr>\n",
       "    <tr>\n",
       "      <th>2</th>\n",
       "      <td>3</td>\n",
       "      <td>2008-07-31 14:22:31</td>\n",
       "      <td>Jarrod Dixon</td>\n",
       "      <td>2018-08-30 20:56:24</td>\n",
       "      <td>Raleigh, NC, United States</td>\n",
       "      <td>13418</td>\n",
       "      <td>24396</td>\n",
       "    </tr>\n",
       "    <tr>\n",
       "      <th>3</th>\n",
       "      <td>4</td>\n",
       "      <td>2008-07-31 14:22:31</td>\n",
       "      <td>Joel Spolsky</td>\n",
       "      <td>2018-08-14 22:18:15</td>\n",
       "      <td>New York, NY</td>\n",
       "      <td>28768</td>\n",
       "      <td>73755</td>\n",
       "    </tr>\n",
       "    <tr>\n",
       "      <th>4</th>\n",
       "      <td>5</td>\n",
       "      <td>2008-07-31 14:22:31</td>\n",
       "      <td>Jon Galloway</td>\n",
       "      <td>2018-08-29 16:48:36</td>\n",
       "      <td>San Diego, CA</td>\n",
       "      <td>39172</td>\n",
       "      <td>11700</td>\n",
       "    </tr>\n",
       "    <tr>\n",
       "      <th>5</th>\n",
       "      <td>8</td>\n",
       "      <td>2008-07-31 21:33:24</td>\n",
       "      <td>Eggs McLaren</td>\n",
       "      <td>2018-04-09 02:04:56</td>\n",
       "      <td>None</td>\n",
       "      <td>942</td>\n",
       "      <td>6372</td>\n",
       "    </tr>\n",
       "    <tr>\n",
       "      <th>6</th>\n",
       "      <td>9</td>\n",
       "      <td>2008-07-31 21:35:27</td>\n",
       "      <td>Kevin Dente</td>\n",
       "      <td>2018-08-30 18:18:03</td>\n",
       "      <td>Oakland, CA</td>\n",
       "      <td>14337</td>\n",
       "      <td>4949</td>\n",
       "    </tr>\n",
       "    <tr>\n",
       "      <th>7</th>\n",
       "      <td>11</td>\n",
       "      <td>2008-08-01 00:59:11</td>\n",
       "      <td>Anonymous User</td>\n",
       "      <td>2008-08-01 00:59:11</td>\n",
       "      <td>None</td>\n",
       "      <td>1890</td>\n",
       "      <td>2123</td>\n",
       "    </tr>\n",
       "    <tr>\n",
       "      <th>8</th>\n",
       "      <td>13</td>\n",
       "      <td>2008-08-01 04:18:05</td>\n",
       "      <td>Chris Jester-Young</td>\n",
       "      <td>2018-08-30 02:47:23</td>\n",
       "      <td>Raleigh, NC, United States</td>\n",
       "      <td>177138</td>\n",
       "      <td>35414</td>\n",
       "    </tr>\n",
       "    <tr>\n",
       "      <th>9</th>\n",
       "      <td>17</td>\n",
       "      <td>2008-08-01 12:02:22</td>\n",
       "      <td>Nick Berardi</td>\n",
       "      <td>2018-01-22 01:35:38</td>\n",
       "      <td>Issaquah, WA</td>\n",
       "      <td>44443</td>\n",
       "      <td>4786</td>\n",
       "    </tr>\n",
       "  </tbody>\n",
       "</table>\n",
       "</div>"
      ],
      "text/plain": [
       "   id       creation_date        display_name    last_access_date  \\\n",
       "0   1 2008-07-31 14:22:31         Jeff Atwood 2018-08-29 02:34:23   \n",
       "1   2 2008-07-31 14:22:31        Geoff Dalgas 2018-08-23 17:31:56   \n",
       "2   3 2008-07-31 14:22:31        Jarrod Dixon 2018-08-30 20:56:24   \n",
       "3   4 2008-07-31 14:22:31        Joel Spolsky 2018-08-14 22:18:15   \n",
       "4   5 2008-07-31 14:22:31        Jon Galloway 2018-08-29 16:48:36   \n",
       "5   8 2008-07-31 21:33:24        Eggs McLaren 2018-04-09 02:04:56   \n",
       "6   9 2008-07-31 21:35:27         Kevin Dente 2018-08-30 18:18:03   \n",
       "7  11 2008-08-01 00:59:11      Anonymous User 2008-08-01 00:59:11   \n",
       "8  13 2008-08-01 04:18:05  Chris Jester-Young 2018-08-30 02:47:23   \n",
       "9  17 2008-08-01 12:02:22        Nick Berardi 2018-01-22 01:35:38   \n",
       "\n",
       "                     location  reputation   views  \n",
       "0              El Cerrito, CA       44300  408587  \n",
       "1               Corvallis, OR        3491   23966  \n",
       "2  Raleigh, NC, United States       13418   24396  \n",
       "3                New York, NY       28768   73755  \n",
       "4               San Diego, CA       39172   11700  \n",
       "5                        None         942    6372  \n",
       "6                 Oakland, CA       14337    4949  \n",
       "7                        None        1890    2123  \n",
       "8  Raleigh, NC, United States      177138   35414  \n",
       "9                Issaquah, WA       44443    4786  "
      ]
     },
     "execution_count": 6,
     "metadata": {},
     "output_type": "execute_result"
    }
   ],
   "source": [
    "sample_df"
   ]
  },
  {
   "cell_type": "markdown",
   "metadata": {},
   "source": [
    "<div class=\"alert alert-success\" style=\"border-radius: 15px; box-shadow: 4px 4px 4px; border: 1px solid \">\n",
    "<h2> Комментарий ревьюера v_1: <a class=\"tocSkip\"> </h2>\n",
    "    \n",
    "✅ Отлично, база данных подключена.\n",
    "</div>  "
   ]
  },
  {
   "cell_type": "markdown",
   "metadata": {
    "id": "gnBMXkDBDWKm"
   },
   "source": [
    "# Задание 1"
   ]
  },
  {
   "cell_type": "markdown",
   "metadata": {
    "id": "vHsfOrrNDWKn"
   },
   "source": [
    "Выведите общую сумму просмотров постов за каждый месяц 2008 года. Если данных за какой-либо месяц в базе нет, такой месяц можно пропустить. Результат отсортируйте по убыванию общего количества просмотров."
   ]
  },
  {
   "cell_type": "markdown",
   "metadata": {
    "id": "N5rTgGNmDWKn"
   },
   "source": [
    "| month_date  | total_views |\n",
    "| ------------- | ------------- |\n",
    "| 2008-09-01  | 452928568  |\n",
    "| 2008-10-01  | 365400138  |\n",
    "| ...         | ... |"
   ]
  },
  {
   "cell_type": "code",
   "execution_count": 7,
   "metadata": {
    "id": "eWvykcXTDWKo"
   },
   "outputs": [],
   "source": [
    "# напишите запрос\n",
    "query = '''\n",
    "SELECT DISTINCT DATE_TRUNC('month', creation_date)::date AS month_date,\n",
    "       COALESCE(SUM(views_count) OVER (PARTITION BY DATE_TRUNC('month', creation_date)),0) AS total_views\n",
    "FROM stackoverflow.posts\n",
    "ORDER BY total_views DESC\n",
    "\n",
    "'''\n",
    "total_view = pd.read_sql_query(query, con=engine) \n",
    "# выполните запрос"
   ]
  },
  {
   "cell_type": "code",
   "execution_count": 8,
   "metadata": {},
   "outputs": [
    {
     "data": {
      "text/html": [
       "<div>\n",
       "<style scoped>\n",
       "    .dataframe tbody tr th:only-of-type {\n",
       "        vertical-align: middle;\n",
       "    }\n",
       "\n",
       "    .dataframe tbody tr th {\n",
       "        vertical-align: top;\n",
       "    }\n",
       "\n",
       "    .dataframe thead th {\n",
       "        text-align: right;\n",
       "    }\n",
       "</style>\n",
       "<table border=\"1\" class=\"dataframe\">\n",
       "  <thead>\n",
       "    <tr style=\"text-align: right;\">\n",
       "      <th></th>\n",
       "      <th>month_date</th>\n",
       "      <th>total_views</th>\n",
       "    </tr>\n",
       "  </thead>\n",
       "  <tbody>\n",
       "    <tr>\n",
       "      <th>0</th>\n",
       "      <td>2008-09-01</td>\n",
       "      <td>452928568</td>\n",
       "    </tr>\n",
       "    <tr>\n",
       "      <th>1</th>\n",
       "      <td>2008-10-01</td>\n",
       "      <td>365400138</td>\n",
       "    </tr>\n",
       "    <tr>\n",
       "      <th>2</th>\n",
       "      <td>2008-11-01</td>\n",
       "      <td>221759651</td>\n",
       "    </tr>\n",
       "    <tr>\n",
       "      <th>3</th>\n",
       "      <td>2008-12-01</td>\n",
       "      <td>197792841</td>\n",
       "    </tr>\n",
       "    <tr>\n",
       "      <th>4</th>\n",
       "      <td>2008-08-01</td>\n",
       "      <td>131367083</td>\n",
       "    </tr>\n",
       "    <tr>\n",
       "      <th>5</th>\n",
       "      <td>2008-07-01</td>\n",
       "      <td>669895</td>\n",
       "    </tr>\n",
       "  </tbody>\n",
       "</table>\n",
       "</div>"
      ],
      "text/plain": [
       "   month_date  total_views\n",
       "0  2008-09-01    452928568\n",
       "1  2008-10-01    365400138\n",
       "2  2008-11-01    221759651\n",
       "3  2008-12-01    197792841\n",
       "4  2008-08-01    131367083\n",
       "5  2008-07-01       669895"
      ]
     },
     "execution_count": 8,
     "metadata": {},
     "output_type": "execute_result"
    }
   ],
   "source": [
    "total_view"
   ]
  },
  {
   "cell_type": "markdown",
   "metadata": {},
   "source": [
    "<div class=\"alert alert-success\" style=\"border-radius: 15px; box-shadow: 4px 4px 4px; border: 1px solid \">\n",
    "<h2> Комментарий ревьюера v_1: <a class=\"tocSkip\"> </h2>\n",
    "    \n",
    "✅ Верно, общая сумма просмотров постов за каждый месяц посчитана, результат отсортирован по убыванию.\n",
    "</div>  "
   ]
  },
  {
   "cell_type": "markdown",
   "metadata": {
    "id": "XMr_UeU6DWKo"
   },
   "source": [
    "<details>\n",
    "\n",
    "<summary>Подсказка</summary>\n",
    "Используйте функцию для усечения даты, а затем сгруппируйте и отсортируйте данные.\n",
    "</details>"
   ]
  },
  {
   "cell_type": "markdown",
   "metadata": {
    "id": "I_ZvhOxkDWKp"
   },
   "source": [
    "Проанализируйте итоговую таблицу. Отличаются ли данные за разные месяцы? С чем могут быть связаны отличия?"
   ]
  },
  {
   "cell_type": "code",
   "execution_count": 9,
   "metadata": {
    "id": "luxSj17oDWKq"
   },
   "outputs": [
    {
     "data": {
      "image/png": "[encoded data removed]",
      "text/plain": [
       "<Figure size 576x288 with 1 Axes>"
      ]
     },
     "metadata": {
      "needs_background": "light"
     },
     "output_type": "display_data"
    }
   ],
   "source": [
    "# напишите ваш ответ здесь\n",
    "\n",
    "total_view.sort_values(by = 'month_date').plot(x = 'month_date', y = 'total_views',xlabel = 'дата первого дня месяца',\\\n",
    "                    ylabel = 'сумма просмотров в месяц', title = 'Общее количество просмотров в месяц',figsize = (8,4));\n"
   ]
  },
  {
   "cell_type": "markdown",
   "metadata": {},
   "source": [
    "Исходя из публичных данных об истории сайта Stackoverflow старт проекта был в июле 2008 и до сентября доступ к сайту имели лишь участники, приглашенные для тестирования закрытой бета-версии.На графике как раз июль и август имеют минимальные показатели количества просмотров. В сентябре 2008 - это пик количества просмотров, сайт открыт для всеобщего доступа. Позже наблюдается некоторое снижение количества просмотров, спад относительно сентября обьясняется естественным оттоком заинтересованности после ознакомления и возможно еще скромными размерами коммьнити IT - специалистов в 2008 году. "
   ]
  },
  {
   "cell_type": "markdown",
   "metadata": {
    "id": "FziIXkn5DWKr"
   },
   "source": [
    "# Задание 2"
   ]
  },
  {
   "cell_type": "markdown",
   "metadata": {
    "id": "fTGESZvYDWKr"
   },
   "source": [
    "Выведите имена самых активных пользователей, которые в первый месяц после регистрации (включая день регистрации) дали больше 100 ответов. Вопросы, которые задавали пользователи, не учитывайте. Для каждого имени пользователя выведите количество уникальных значений `user_id`. Отсортируйте результат по полю с именами в лексикографическом порядке."
   ]
  },
  {
   "cell_type": "markdown",
   "metadata": {
    "id": "W5-tv6Y3DWKs"
   },
   "source": [
    "| display_name | count |\n",
    "| ------------ | ----- |\n",
    "| 1800 INFORMATION | 1 |\n",
    "| Adam Bellaire | 1 |\n",
    "| Adam Davis | 1 |\n",
    "| ... | ... |"
   ]
  },
  {
   "cell_type": "code",
   "execution_count": 10,
   "metadata": {},
   "outputs": [],
   "source": [
    "# напишите запрос\n",
    "query1 = '''\n",
    "SELECT display_name, COUNT( p.user_id) OVER (PARTITION BY display_name) AS count_id\n",
    "FROM (SELECT id, user_id, creation_date::date\n",
    "      FROM stackoverflow.posts\n",
    "      WHERE post_type_id IN(SELECT id\n",
    "                            FROM stackoverflow.post_types\n",
    "                            WHERE type = 'Answer')) AS p LEFT JOIN stackoverflow.users AS u ON p.user_id = u.id\n",
    "WHERE p.creation_date BETWEEN u.creation_date::date AND (u.creation_date::date + INTERVAL '1 month')\n",
    "GROUP BY p.user_id, u.display_name\n",
    "HAVING COUNT(DISTINCT p.id) > 100\n",
    "ORDER BY display_name\n",
    "'''\n",
    "\n",
    "# выполните запрос\n",
    "active_answer = pd.read_sql_query(query1, con=engine) "
   ]
  },
  {
   "cell_type": "code",
   "execution_count": 11,
   "metadata": {},
   "outputs": [
    {
     "data": {
      "text/html": [
       "<div>\n",
       "<style scoped>\n",
       "    .dataframe tbody tr th:only-of-type {\n",
       "        vertical-align: middle;\n",
       "    }\n",
       "\n",
       "    .dataframe tbody tr th {\n",
       "        vertical-align: top;\n",
       "    }\n",
       "\n",
       "    .dataframe thead th {\n",
       "        text-align: right;\n",
       "    }\n",
       "</style>\n",
       "<table border=\"1\" class=\"dataframe\">\n",
       "  <thead>\n",
       "    <tr style=\"text-align: right;\">\n",
       "      <th></th>\n",
       "      <th>display_name</th>\n",
       "      <th>count_id</th>\n",
       "    </tr>\n",
       "  </thead>\n",
       "  <tbody>\n",
       "    <tr>\n",
       "      <th>0</th>\n",
       "      <td>1800 INFORMATION</td>\n",
       "      <td>1</td>\n",
       "    </tr>\n",
       "    <tr>\n",
       "      <th>1</th>\n",
       "      <td>Adam Bellaire</td>\n",
       "      <td>1</td>\n",
       "    </tr>\n",
       "    <tr>\n",
       "      <th>2</th>\n",
       "      <td>Adam Davis</td>\n",
       "      <td>1</td>\n",
       "    </tr>\n",
       "    <tr>\n",
       "      <th>3</th>\n",
       "      <td>Adam Liss</td>\n",
       "      <td>1</td>\n",
       "    </tr>\n",
       "    <tr>\n",
       "      <th>4</th>\n",
       "      <td>Amy B</td>\n",
       "      <td>1</td>\n",
       "    </tr>\n",
       "    <tr>\n",
       "      <th>...</th>\n",
       "      <td>...</td>\n",
       "      <td>...</td>\n",
       "    </tr>\n",
       "    <tr>\n",
       "      <th>60</th>\n",
       "      <td>lomaxx</td>\n",
       "      <td>1</td>\n",
       "    </tr>\n",
       "    <tr>\n",
       "      <th>61</th>\n",
       "      <td>mattlant</td>\n",
       "      <td>1</td>\n",
       "    </tr>\n",
       "    <tr>\n",
       "      <th>62</th>\n",
       "      <td>paxdiablo</td>\n",
       "      <td>1</td>\n",
       "    </tr>\n",
       "    <tr>\n",
       "      <th>63</th>\n",
       "      <td>tvanfosson</td>\n",
       "      <td>1</td>\n",
       "    </tr>\n",
       "    <tr>\n",
       "      <th>64</th>\n",
       "      <td>tzot</td>\n",
       "      <td>1</td>\n",
       "    </tr>\n",
       "  </tbody>\n",
       "</table>\n",
       "<p>65 rows × 2 columns</p>\n",
       "</div>"
      ],
      "text/plain": [
       "        display_name  count_id\n",
       "0   1800 INFORMATION         1\n",
       "1      Adam Bellaire         1\n",
       "2         Adam Davis         1\n",
       "3          Adam Liss         1\n",
       "4              Amy B         1\n",
       "..               ...       ...\n",
       "60            lomaxx         1\n",
       "61          mattlant         1\n",
       "62         paxdiablo         1\n",
       "63        tvanfosson         1\n",
       "64              tzot         1\n",
       "\n",
       "[65 rows x 2 columns]"
      ]
     },
     "metadata": {},
     "output_type": "display_data"
    },
    {
     "data": {
      "text/plain": [
       "'Количество уникальных id на имя пользователя:'"
      ]
     },
     "metadata": {},
     "output_type": "display_data"
    },
    {
     "data": {
      "text/plain": [
       "1"
      ]
     },
     "metadata": {},
     "output_type": "display_data"
    }
   ],
   "source": [
    "display(active_answer)\n",
    "display('Количество уникальных id на имя пользователя:', active_answer['count_id'].nunique())"
   ]
  },
  {
   "cell_type": "markdown",
   "metadata": {},
   "source": [
    "<div class=\"alert alert-block alert-danger\" style=\"border-radius: 15px; box-shadow: 4px 4px 4px; border: 1px solid \">\n",
    "<h2> Комментарий ревьюера v_1: <a class=\"tocSkip\"></h2>\n",
    "    \n",
    "❌ Ответ не совсем точный. Запрос можно оптимизировать, решить без использования подзапроса. Достаточно выбрать имя пользователя и количество уникальных user_id. Объединить таблицы. Отфильтровать по времени и ответам. Обратить внимание на то, что группируем (нам нужно посчитать по именам пользователей). В HAVING отобрать по количеству ответов. И в конце отсортировать в соответствии с заданием.\n",
    "</div>"
   ]
  },
  {
   "cell_type": "markdown",
   "metadata": {},
   "source": [
    "<div class=\"alert alert-info\"  style=\"border-radius: 15px; box-shadow: 4px 4px 4px; border: 1px solid \">\n",
    "    \n",
    "<h2>Комментарий студента v_1: <a class=\"tocSkip\"> </h2>\n",
    "Извини, но кажется я не понимаю задания или тебя) Если я правильно воспроизвела код, о котором пишешь ты(он ниже этого комментария), то ответы больше 100 отфильтруются по имени, т.е 2 условные Светы по 51 ответу войдут в список. Но в задании \"Выведите имена самых активных пользователей, которые в первый месяц после регистрации (включая день регистрации) дали больше 100 ответов\". Т.е активные пользователи(и их имена), ответившие больше 100 раз. Идетифицирую я пользователя по id. Иходя же из запроса ниже мы считаем какие имена дают суммарную активность больше 100 ответов за период от регистрции плюс месяц позже.И сколько уникальных пользователей выбрали себе такое имя. Я когда писала запрос тоже не совсем понимала зачем он, как-то глупо искать аномалии при такой выборке как 100+ ответов и еще месяц после реистрации. Но раз просят, то могу и написать. Я оставлю свой старый запрос и ниже написала новый. Вывод напишу по-новому запросу.Жду от тебя фидбэк, так как и правда не могу понять, что надо сделать.Еще один момент про оптимизацию запроса.Получается эффективнее джойнить не кусок отфильтрованных данных к таблице, а целую таблицу и потом фильтровать? Я честно говоря люблю подзапросы, так как точно знаю, какие у меня там столбцы и данные и если честно думала, что куски \"легче\" джойнить.\n",
    "    \n",
    "</div>"
   ]
  },
  {
   "cell_type": "markdown",
   "metadata": {},
   "source": [
    "<div class=\"alert alert-success\" style=\"border-radius: 15px; box-shadow: 4px 4px 4px; border: 1px solid \">\n",
    "<h2> Комментарий ревьюера v_2: <a class=\"tocSkip\"> </h2>\n",
    "    \n",
    "✅ JOIN в большинстве случаев предпочтительнее, работает эффективнее, чем подзапросы. К подзапросам лучше прибегать, если невозможно без них обойтись. Хотя подзапросы могут проще восприниматься при чтении и написании. Что касается задания, здесь написано: \"Для каждого имени пользователя выведите количество уникальных значений user_id\", а не для имени и id пользователя. Пользователи отфильтрованы в запросе ниже в соответствии с заданием.\n",
    "</div>  "
   ]
  },
  {
   "cell_type": "code",
   "execution_count": 12,
   "metadata": {},
   "outputs": [],
   "source": [
    "query10 = '''\n",
    "SELECT display_name, COUNT(DISTINCT p.user_id) AS count_id\n",
    "FROM stackoverflow.posts AS p LEFT JOIN stackoverflow.users AS u ON p.user_id = u.id\n",
    "WHERE p.creation_date::date BETWEEN u.creation_date::date AND (u.creation_date::date + INTERVAL '1 month')\n",
    "    AND post_type_id IN(SELECT id\n",
    "                            FROM stackoverflow.post_types\n",
    "                            WHERE type = 'Answer')\n",
    "GROUP BY display_name\n",
    "HAVING COUNT(DISTINCT p.id) > 100\n",
    "ORDER BY display_name\n",
    "'''\n",
    "\n",
    "# выполните запрос\n",
    "active_answer1 = pd.read_sql_query(query10, con=engine) "
   ]
  },
  {
   "cell_type": "code",
   "execution_count": 13,
   "metadata": {},
   "outputs": [
    {
     "data": {
      "text/html": [
       "<div>\n",
       "<style scoped>\n",
       "    .dataframe tbody tr th:only-of-type {\n",
       "        vertical-align: middle;\n",
       "    }\n",
       "\n",
       "    .dataframe tbody tr th {\n",
       "        vertical-align: top;\n",
       "    }\n",
       "\n",
       "    .dataframe thead th {\n",
       "        text-align: right;\n",
       "    }\n",
       "</style>\n",
       "<table border=\"1\" class=\"dataframe\">\n",
       "  <thead>\n",
       "    <tr style=\"text-align: right;\">\n",
       "      <th></th>\n",
       "      <th>display_name</th>\n",
       "      <th>count_id</th>\n",
       "    </tr>\n",
       "  </thead>\n",
       "  <tbody>\n",
       "    <tr>\n",
       "      <th>0</th>\n",
       "      <td>1800 INFORMATION</td>\n",
       "      <td>1</td>\n",
       "    </tr>\n",
       "    <tr>\n",
       "      <th>1</th>\n",
       "      <td>Adam Bellaire</td>\n",
       "      <td>1</td>\n",
       "    </tr>\n",
       "    <tr>\n",
       "      <th>2</th>\n",
       "      <td>Adam Davis</td>\n",
       "      <td>1</td>\n",
       "    </tr>\n",
       "    <tr>\n",
       "      <th>3</th>\n",
       "      <td>Adam Liss</td>\n",
       "      <td>1</td>\n",
       "    </tr>\n",
       "    <tr>\n",
       "      <th>4</th>\n",
       "      <td>Alan</td>\n",
       "      <td>8</td>\n",
       "    </tr>\n",
       "    <tr>\n",
       "      <th>...</th>\n",
       "      <td>...</td>\n",
       "      <td>...</td>\n",
       "    </tr>\n",
       "    <tr>\n",
       "      <th>74</th>\n",
       "      <td>lomaxx</td>\n",
       "      <td>1</td>\n",
       "    </tr>\n",
       "    <tr>\n",
       "      <th>75</th>\n",
       "      <td>mattlant</td>\n",
       "      <td>1</td>\n",
       "    </tr>\n",
       "    <tr>\n",
       "      <th>76</th>\n",
       "      <td>paxdiablo</td>\n",
       "      <td>1</td>\n",
       "    </tr>\n",
       "    <tr>\n",
       "      <th>77</th>\n",
       "      <td>tvanfosson</td>\n",
       "      <td>1</td>\n",
       "    </tr>\n",
       "    <tr>\n",
       "      <th>78</th>\n",
       "      <td>tzot</td>\n",
       "      <td>1</td>\n",
       "    </tr>\n",
       "  </tbody>\n",
       "</table>\n",
       "<p>79 rows × 2 columns</p>\n",
       "</div>"
      ],
      "text/plain": [
       "        display_name  count_id\n",
       "0   1800 INFORMATION         1\n",
       "1      Adam Bellaire         1\n",
       "2         Adam Davis         1\n",
       "3          Adam Liss         1\n",
       "4               Alan         8\n",
       "..               ...       ...\n",
       "74            lomaxx         1\n",
       "75          mattlant         1\n",
       "76         paxdiablo         1\n",
       "77        tvanfosson         1\n",
       "78              tzot         1\n",
       "\n",
       "[79 rows x 2 columns]"
      ]
     },
     "metadata": {},
     "output_type": "display_data"
    },
    {
     "data": {
      "text/plain": [
       "'Количество уникальных id на имя пользователя:'"
      ]
     },
     "metadata": {},
     "output_type": "display_data"
    },
    {
     "data": {
      "text/plain": [
       "array([ 1,  8, 15, 29, 10, 21, 12,  7,  9, 16,  5, 11, 17,  3, 19])"
      ]
     },
     "metadata": {},
     "output_type": "display_data"
    }
   ],
   "source": [
    "display(active_answer1)\n",
    "display('Количество уникальных id на имя пользователя:', active_answer1['count_id'].unique())"
   ]
  },
  {
   "cell_type": "markdown",
   "metadata": {
    "id": "YIqqc-7HDWKt"
   },
   "source": [
    "<details>\n",
    "\n",
    "<summary>Подсказка</summary>\n",
    "Вам нужно присоединить несколько таблиц — изучите внимательнее описание базы. Чтобы добавить промежуток времени к дате, используйте ключевое слово INTERVAL, например, так: <дата> + INTERVAL '1 year 2 months 3 days'\n",
    ".</details>"
   ]
  },
  {
   "cell_type": "markdown",
   "metadata": {
    "id": "I3Wr82TplKpI"
   },
   "source": [
    "Какие аномалии наблюдаются в данных? О чём они говорят?"
   ]
  },
  {
   "cell_type": "code",
   "execution_count": 14,
   "metadata": {
    "id": "CEIGGQ6ODWKy"
   },
   "outputs": [],
   "source": [
    "# напишите ваш ответ здесь"
   ]
  },
  {
   "cell_type": "markdown",
   "metadata": {},
   "source": [
    "Так как количество уникальных id на 1 имя бывает не равно единице, можно предположить, что скорее всего при регистрации нет необходимости указывать оригинальный ник, что вряд ли создает трудности для пользователей так как профиль участика идентифицируется по id."
   ]
  },
  {
   "cell_type": "markdown",
   "metadata": {},
   "source": [
    "<div class=\"alert alert-block alert-danger\" style=\"border-radius: 15px; box-shadow: 4px 4px 4px; border: 1px solid \">\n",
    "<h2> Комментарий ревьюера v_1: <a class=\"tocSkip\"></h2>\n",
    "    \n",
    "❌ Обновить вывод\n",
    "</div>"
   ]
  },
  {
   "cell_type": "markdown",
   "metadata": {},
   "source": [
    "<div class=\"alert alert-info\"  style=\"border-radius: 15px; box-shadow: 4px 4px 4px; border: 1px solid \">\n",
    "    \n",
    "<h2>Комментарий студента v_1: <a class=\"tocSkip\"> </h2>\n",
    "Обновила\n",
    "</div>"
   ]
  },
  {
   "cell_type": "markdown",
   "metadata": {},
   "source": [
    "<div class=\"alert alert-success\" style=\"border-radius: 15px; box-shadow: 4px 4px 4px; border: 1px solid \">\n",
    "<h2> Комментарий ревьюера v_2: <a class=\"tocSkip\"> </h2>\n",
    "    \n",
    "✅ Отлично\n",
    "</div>  "
   ]
  },
  {
   "cell_type": "markdown",
   "metadata": {
    "id": "JhM2xXj5DWKu"
   },
   "source": [
    "# Задание 3"
   ]
  },
  {
   "cell_type": "markdown",
   "metadata": {
    "id": "IS6xPqyyDWKu"
   },
   "source": [
    "Выведите количество постов за 2008 год по месяцам. Отберите посты от пользователей, которые зарегистрировались в сентябре 2008 года и сделали хотя бы один пост в декабре того же года. Отсортируйте таблицу по значению месяца по убыванию."
   ]
  },
  {
   "cell_type": "markdown",
   "metadata": {
    "id": "WmjhjV2xDWKv"
   },
   "source": [
    "| month | count |\n",
    "| ------|------ |\n",
    "| 2008-12-01 | 17641 |\n",
    "| 2008-11-01 | 18294 |\n",
    "| ... | ... |"
   ]
  },
  {
   "cell_type": "code",
   "execution_count": 15,
   "metadata": {
    "id": "kVu0FB8WDWKv"
   },
   "outputs": [],
   "source": [
    "# напишите запрос\n",
    "query2 = '''\n",
    "SELECT DISTINCT DATE_TRUNC('month',creation_date)::date AS month,\n",
    "       COUNT(id) OVER (PARTITION BY DATE_TRUNC('month',creation_date)::date) AS count_post\n",
    "FROM stackoverflow.posts\n",
    "WHERE user_id IN (SELECT DISTINCT user_id\n",
    "                  FROM stackoverflow.posts\n",
    "                  WHERE user_id IN (SELECT DISTINCT id AS user_id\n",
    "                                    FROM stackoverflow.users\n",
    "                                    WHERE DATE_TRUNC('month',creation_date)::date = '2008-09-01') \n",
    "                                    AND DATE_TRUNC('month',creation_date)::date = '2008-12-01')\n",
    "ORDER BY 1 DESC\n",
    "'''\n",
    "\n",
    "# выполните запрос\n",
    "count_post = pd.read_sql_query(query2, con=engine) "
   ]
  },
  {
   "cell_type": "code",
   "execution_count": 16,
   "metadata": {},
   "outputs": [
    {
     "data": {
      "text/html": [
       "<div>\n",
       "<style scoped>\n",
       "    .dataframe tbody tr th:only-of-type {\n",
       "        vertical-align: middle;\n",
       "    }\n",
       "\n",
       "    .dataframe tbody tr th {\n",
       "        vertical-align: top;\n",
       "    }\n",
       "\n",
       "    .dataframe thead th {\n",
       "        text-align: right;\n",
       "    }\n",
       "</style>\n",
       "<table border=\"1\" class=\"dataframe\">\n",
       "  <thead>\n",
       "    <tr style=\"text-align: right;\">\n",
       "      <th></th>\n",
       "      <th>month</th>\n",
       "      <th>count_post</th>\n",
       "    </tr>\n",
       "  </thead>\n",
       "  <tbody>\n",
       "    <tr>\n",
       "      <th>0</th>\n",
       "      <td>2008-12-01</td>\n",
       "      <td>17641</td>\n",
       "    </tr>\n",
       "    <tr>\n",
       "      <th>1</th>\n",
       "      <td>2008-11-01</td>\n",
       "      <td>18294</td>\n",
       "    </tr>\n",
       "    <tr>\n",
       "      <th>2</th>\n",
       "      <td>2008-10-01</td>\n",
       "      <td>27171</td>\n",
       "    </tr>\n",
       "    <tr>\n",
       "      <th>3</th>\n",
       "      <td>2008-09-01</td>\n",
       "      <td>24870</td>\n",
       "    </tr>\n",
       "    <tr>\n",
       "      <th>4</th>\n",
       "      <td>2008-08-01</td>\n",
       "      <td>32</td>\n",
       "    </tr>\n",
       "  </tbody>\n",
       "</table>\n",
       "</div>"
      ],
      "text/plain": [
       "        month  count_post\n",
       "0  2008-12-01       17641\n",
       "1  2008-11-01       18294\n",
       "2  2008-10-01       27171\n",
       "3  2008-09-01       24870\n",
       "4  2008-08-01          32"
      ]
     },
     "execution_count": 16,
     "metadata": {},
     "output_type": "execute_result"
    }
   ],
   "source": [
    "count_post"
   ]
  },
  {
   "cell_type": "markdown",
   "metadata": {},
   "source": [
    "<div class=\"alert alert-success\" style=\"border-radius: 15px; box-shadow: 4px 4px 4px; border: 1px solid \">\n",
    "<h2> Комментарий ревьюера v_1: <a class=\"tocSkip\"> </h2>\n",
    "    \n",
    "✅ Да, количество постов выведено верно, данные отсортированы, как указано в задании. \n",
    "</div>  "
   ]
  },
  {
   "cell_type": "code",
   "execution_count": 17,
   "metadata": {},
   "outputs": [
    {
     "data": {
      "image/png": "[encoded data removed]",
      "text/plain": [
       "<Figure size 720x288 with 1 Axes>"
      ]
     },
     "metadata": {
      "needs_background": "light"
     },
     "output_type": "display_data"
    }
   ],
   "source": [
    "count_post['month'] = pd.to_datetime(count_post['month'])\n",
    "count_post.plot(x = 'month', y = 'count_post',xlabel = 'дата первого дня месяца',\\\n",
    "                    ylabel = 'количество постов в месяц',\\\n",
    "title = 'Количество постов в месяц для пользователей с регистрацией в сентябре и хотя бы 1 публикацией в декабре'\\\n",
    "                                          ,figsize = (10,4));\n"
   ]
  },
  {
   "cell_type": "markdown",
   "metadata": {
    "id": "nWf0JsTMDWKx"
   },
   "source": [
    "<details>\n",
    "\n",
    "<summary>Подсказка</summary>\n",
    "Сначала найдите идентификаторы пользователей, которые зарегистрировались в сентябре 2008 года и оставили хотя бы один пост в декабре. Затем используйте результат для среза и посчитайте посты по месяцам.</details>"
   ]
  },
  {
   "cell_type": "markdown",
   "metadata": {
    "id": "Vnxn9DVHDWKx"
   },
   "source": [
    "Изучите данные: есть ли в них аномалии? Предположите, почему могли появиться аномальные значения."
   ]
  },
  {
   "cell_type": "code",
   "execution_count": 18,
   "metadata": {
    "id": "MMVIz4yMlKpN"
   },
   "outputs": [],
   "source": [
    "# напишите ваш ответ здесь"
   ]
  },
  {
   "cell_type": "markdown",
   "metadata": {},
   "source": [
    "Исходя из логики запроса для пользователей зарегистрировавшихся в сентябре месяце не может быть постов опубликованных в августе. Но из истроии развития сайта известно, что в августе тестировалась закрытая бета-версия сайта и только в сентябре она стала публичной. Можно предположить, что 32 поста опубликованные в августе написаны пользователями участвующими в эксперименте. С датой старта публичной версии эти пользователи получили соответственно дату ресистрации публичной версии -а это сентябрь 2008. По публикациям также видим снижение активности после октября, что обьясняется естественным оттоком и наполняемостью базы решенными вопросами."
   ]
  },
  {
   "cell_type": "markdown",
   "metadata": {
    "id": "5Pcizm0DDWKz"
   },
   "source": [
    "# Задание 4"
   ]
  },
  {
   "cell_type": "markdown",
   "metadata": {
    "id": "KUZPF6vHDWKz"
   },
   "source": [
    "Используя данные о постах, выведите несколько полей:\n",
    "\n",
    "- идентификатор пользователя, который написал пост;\n",
    "- дата создания поста;\n",
    "- количество просмотров у текущего поста;\n",
    "- сумму просмотров постов автора с накоплением.\n",
    "\n",
    "Данные в таблице должны быть отсортированы по возрастанию идентификаторов пользователей, а данные об одном и том же пользователе — по возрастанию даты создания поста."
   ]
  },
  {
   "cell_type": "markdown",
   "metadata": {
    "id": "ZpsTUVDYDWK0"
   },
   "source": [
    "| user_id | creation_date | views_count | cumulative_count |\n",
    "| ------ | -------------- | ----------- | ---------------- |\n",
    "| 1 | 2008-07-31 23:41:00  | 480476   | 480476  |\n",
    "| 1 | 2008-07-31 23:55:38  | 136033 | 616509  | \n",
    "| 1 | 2008-07-31 23:56:41  | 0 |  616509  |\n",
    "| ... | ... | ... | ... |\n",
    "| 2 | 2008-07-31 23:56:41 | 79087  | 79087 |\n",
    "| 2 | 2008-08-01 05:09:56 | 65443 | 144530 |\n",
    "| ... | ...  | ...  | ...  |"
   ]
  },
  {
   "cell_type": "code",
   "execution_count": 19,
   "metadata": {
    "id": "hDoJhMzfDWK0"
   },
   "outputs": [],
   "source": [
    "# напишите запрос\n",
    "query3 = '''\n",
    "SELECT user_id, creation_date, views_count, \n",
    "       SUM(views_count) OVER (PARTITION BY user_id ORDER BY creation_date) AS cumulative_count\n",
    "FROM stackoverflow.posts\n",
    "ORDER BY user_id, creation_date\n",
    "'''\n",
    "\n",
    "# выполните запрос\n",
    "cumulative_count = pd.read_sql_query(query3, con=engine) "
   ]
  },
  {
   "cell_type": "code",
   "execution_count": 20,
   "metadata": {},
   "outputs": [
    {
     "data": {
      "text/html": [
       "<div>\n",
       "<style scoped>\n",
       "    .dataframe tbody tr th:only-of-type {\n",
       "        vertical-align: middle;\n",
       "    }\n",
       "\n",
       "    .dataframe tbody tr th {\n",
       "        vertical-align: top;\n",
       "    }\n",
       "\n",
       "    .dataframe thead th {\n",
       "        text-align: right;\n",
       "    }\n",
       "</style>\n",
       "<table border=\"1\" class=\"dataframe\">\n",
       "  <thead>\n",
       "    <tr style=\"text-align: right;\">\n",
       "      <th></th>\n",
       "      <th>user_id</th>\n",
       "      <th>creation_date</th>\n",
       "      <th>views_count</th>\n",
       "      <th>cumulative_count</th>\n",
       "    </tr>\n",
       "  </thead>\n",
       "  <tbody>\n",
       "    <tr>\n",
       "      <th>0</th>\n",
       "      <td>1</td>\n",
       "      <td>2008-07-31 23:41:00</td>\n",
       "      <td>480476</td>\n",
       "      <td>480476</td>\n",
       "    </tr>\n",
       "    <tr>\n",
       "      <th>1</th>\n",
       "      <td>1</td>\n",
       "      <td>2008-07-31 23:55:38</td>\n",
       "      <td>136033</td>\n",
       "      <td>616509</td>\n",
       "    </tr>\n",
       "    <tr>\n",
       "      <th>2</th>\n",
       "      <td>1</td>\n",
       "      <td>2008-07-31 23:56:41</td>\n",
       "      <td>0</td>\n",
       "      <td>616509</td>\n",
       "    </tr>\n",
       "    <tr>\n",
       "      <th>3</th>\n",
       "      <td>1</td>\n",
       "      <td>2008-08-04 02:45:08</td>\n",
       "      <td>0</td>\n",
       "      <td>616509</td>\n",
       "    </tr>\n",
       "    <tr>\n",
       "      <th>4</th>\n",
       "      <td>1</td>\n",
       "      <td>2008-08-04 04:31:03</td>\n",
       "      <td>0</td>\n",
       "      <td>616509</td>\n",
       "    </tr>\n",
       "    <tr>\n",
       "      <th>...</th>\n",
       "      <td>...</td>\n",
       "      <td>...</td>\n",
       "      <td>...</td>\n",
       "      <td>...</td>\n",
       "    </tr>\n",
       "    <tr>\n",
       "      <th>243791</th>\n",
       "      <td>5696608</td>\n",
       "      <td>2008-12-23 16:00:37</td>\n",
       "      <td>0</td>\n",
       "      <td>2804</td>\n",
       "    </tr>\n",
       "    <tr>\n",
       "      <th>243792</th>\n",
       "      <td>5696608</td>\n",
       "      <td>2008-12-23 17:35:09</td>\n",
       "      <td>0</td>\n",
       "      <td>2804</td>\n",
       "    </tr>\n",
       "    <tr>\n",
       "      <th>243793</th>\n",
       "      <td>5696608</td>\n",
       "      <td>2008-12-24 01:02:48</td>\n",
       "      <td>0</td>\n",
       "      <td>2804</td>\n",
       "    </tr>\n",
       "    <tr>\n",
       "      <th>243794</th>\n",
       "      <td>5696608</td>\n",
       "      <td>2008-12-30 14:34:45</td>\n",
       "      <td>0</td>\n",
       "      <td>2804</td>\n",
       "    </tr>\n",
       "    <tr>\n",
       "      <th>243795</th>\n",
       "      <td>5696608</td>\n",
       "      <td>2008-12-30 16:32:12</td>\n",
       "      <td>0</td>\n",
       "      <td>2804</td>\n",
       "    </tr>\n",
       "  </tbody>\n",
       "</table>\n",
       "<p>243796 rows × 4 columns</p>\n",
       "</div>"
      ],
      "text/plain": [
       "        user_id       creation_date  views_count  cumulative_count\n",
       "0             1 2008-07-31 23:41:00       480476            480476\n",
       "1             1 2008-07-31 23:55:38       136033            616509\n",
       "2             1 2008-07-31 23:56:41            0            616509\n",
       "3             1 2008-08-04 02:45:08            0            616509\n",
       "4             1 2008-08-04 04:31:03            0            616509\n",
       "...         ...                 ...          ...               ...\n",
       "243791  5696608 2008-12-23 16:00:37            0              2804\n",
       "243792  5696608 2008-12-23 17:35:09            0              2804\n",
       "243793  5696608 2008-12-24 01:02:48            0              2804\n",
       "243794  5696608 2008-12-30 14:34:45            0              2804\n",
       "243795  5696608 2008-12-30 16:32:12            0              2804\n",
       "\n",
       "[243796 rows x 4 columns]"
      ]
     },
     "execution_count": 20,
     "metadata": {},
     "output_type": "execute_result"
    }
   ],
   "source": [
    "cumulative_count"
   ]
  },
  {
   "cell_type": "markdown",
   "metadata": {},
   "source": [
    "<div class=\"alert alert-success\" style=\"border-radius: 15px; box-shadow: 4px 4px 4px; border: 1px solid \">\n",
    "<h2> Комментарий ревьюера v_1: <a class=\"tocSkip\"> </h2>\n",
    "    \n",
    "✅ Правильно. Очень хорошо, что используешь оконную функцию `SUM`.\n",
    "</div>  "
   ]
  },
  {
   "cell_type": "markdown",
   "metadata": {
    "id": "toidOivXDWK1"
   },
   "source": [
    "<details>\n",
    "\n",
    "<summary>Подсказка</summary>\n",
    "Для подсчёта суммы с накоплением используйте оконную функцию.\n",
    "</details>"
   ]
  },
  {
   "cell_type": "markdown",
   "metadata": {
    "id": "N0kHRHvIDWK2"
   },
   "source": [
    "# Задание 5"
   ]
  },
  {
   "cell_type": "markdown",
   "metadata": {
    "id": "gBgvmPtODWK2"
   },
   "source": [
    "Найдите среднее количество постов пользователей в день за август 2008 года. Отберите данные о пользователях, которые опубликовали больше 120 постов за август. Дни без публикаций не учитывайте. \n",
    "\n",
    "Отсортируйте результат по возрастанию среднего количества постов. Значения можно не округлять."
   ]
  },
  {
   "cell_type": "markdown",
   "metadata": {
    "id": "nfzR08BODWK3"
   },
   "source": [
    "| user_id | avg_daily |\n",
    "| ------- | --------- |\n",
    "| 116     | 4.777778  |\n",
    "| 234     | 5.208333  |\n",
    "| ...     | ... |"
   ]
  },
  {
   "cell_type": "code",
   "execution_count": 21,
   "metadata": {
    "id": "YFyPNz5GDWK3"
   },
   "outputs": [],
   "source": [
    "# напишите запрос\n",
    "query4 = '''\n",
    "SELECT user_id, COUNT(id)::numeric/COUNT(DISTINCT day)  AS avg_daily\n",
    "FROM (SELECT id,DATE_PART('day', creation_date::date) AS day, user_id, COUNT(id) OVER (PARTITION BY user_id) AS aug_count\n",
    "      FROM stackoverflow.posts\n",
    "      WHERE DATE_TRUNC('month',creation_date)::date = '2008-08-01') AS t\n",
    "WHERE aug_count > 120\n",
    "GROUP BY user_id\n",
    "ORDER BY 2 \n",
    "'''\n",
    "\n",
    "# выполните запрос\n",
    "avg_daily = pd.read_sql_query(query4, con=engine) "
   ]
  },
  {
   "cell_type": "code",
   "execution_count": 22,
   "metadata": {},
   "outputs": [
    {
     "data": {
      "text/html": [
       "<div>\n",
       "<style scoped>\n",
       "    .dataframe tbody tr th:only-of-type {\n",
       "        vertical-align: middle;\n",
       "    }\n",
       "\n",
       "    .dataframe tbody tr th {\n",
       "        vertical-align: top;\n",
       "    }\n",
       "\n",
       "    .dataframe thead th {\n",
       "        text-align: right;\n",
       "    }\n",
       "</style>\n",
       "<table border=\"1\" class=\"dataframe\">\n",
       "  <thead>\n",
       "    <tr style=\"text-align: right;\">\n",
       "      <th></th>\n",
       "      <th>user_id</th>\n",
       "      <th>avg_daily</th>\n",
       "    </tr>\n",
       "  </thead>\n",
       "  <tbody>\n",
       "    <tr>\n",
       "      <th>0</th>\n",
       "      <td>116</td>\n",
       "      <td>4.777778</td>\n",
       "    </tr>\n",
       "    <tr>\n",
       "      <th>1</th>\n",
       "      <td>234</td>\n",
       "      <td>5.208333</td>\n",
       "    </tr>\n",
       "    <tr>\n",
       "      <th>2</th>\n",
       "      <td>91</td>\n",
       "      <td>5.681818</td>\n",
       "    </tr>\n",
       "    <tr>\n",
       "      <th>3</th>\n",
       "      <td>905</td>\n",
       "      <td>7.000000</td>\n",
       "    </tr>\n",
       "    <tr>\n",
       "      <th>4</th>\n",
       "      <td>383</td>\n",
       "      <td>7.277778</td>\n",
       "    </tr>\n",
       "  </tbody>\n",
       "</table>\n",
       "</div>"
      ],
      "text/plain": [
       "   user_id  avg_daily\n",
       "0      116   4.777778\n",
       "1      234   5.208333\n",
       "2       91   5.681818\n",
       "3      905   7.000000\n",
       "4      383   7.277778"
      ]
     },
     "execution_count": 22,
     "metadata": {},
     "output_type": "execute_result"
    }
   ],
   "source": [
    "avg_daily"
   ]
  },
  {
   "cell_type": "markdown",
   "metadata": {},
   "source": [
    "<div class=\"alert alert-success\" style=\"border-radius: 15px; box-shadow: 4px 4px 4px; border: 1px solid \">\n",
    "<h2> Комментарий ревьюера v_1: <a class=\"tocSkip\"> </h2>\n",
    "    \n",
    "✅ Да, среднее количество постов пользователей в день за август 2008 года найдено верно.\n",
    "</div>  "
   ]
  },
  {
   "cell_type": "markdown",
   "metadata": {
    "id": "5Gs8kiJvDWK4"
   },
   "source": [
    "<details>\n",
    "\n",
    "<summary>Подсказка</summary>\n",
    "Сначала найдите идентификаторы пользователей, которые написали более 120 постов за август. Используя этот запрос в качестве подзапроса для среза, найдите и сохраните во временную таблицу идентификаторы нужных пользователей, дни августа и количество постов в день. В основном запросе сгруппируйте данные по пользователям и найдите для каждого из них среднее количество постов.\n",
    "</details>"
   ]
  },
  {
   "cell_type": "markdown",
   "metadata": {
    "id": "EQ0dcFH4DWK5"
   },
   "source": [
    "# Задание 6"
   ]
  },
  {
   "cell_type": "markdown",
   "metadata": {
    "id": "c7flfg_hDWK5"
   },
   "source": [
    "Сколько в среднем дней в период с 1 по 7 декабря 2008 года пользователи взаимодействовали с платформой? Для каждого пользователя отберите дни, в которые он или она опубликовали хотя бы один пост. Нужно получить одно целое число — не забудьте округлить результат. "
   ]
  },
  {
   "cell_type": "markdown",
   "metadata": {
    "id": "RC1Ibzm9DWK6"
   },
   "source": [
    "| result |\n",
    "| -----  |\n",
    "| <целое число> |"
   ]
  },
  {
   "cell_type": "code",
   "execution_count": 23,
   "metadata": {
    "id": "kZ7LXTr6DWK6"
   },
   "outputs": [],
   "source": [
    "# напишите запрос\n",
    "query5 = '''\n",
    "SELECT ROUND(AVG(day),0)::integer\n",
    "FROM (SELECT user_id, COUNT(DISTINCT DATE_PART('day',creation_date::date)) AS day\n",
    "FROM stackoverflow.posts\n",
    "WHERE creation_date::date BETWEEN '2008-12-01' AND '2008-12-07'\n",
    "GROUP BY user_id) AS t\n",
    "\n",
    "'''\n",
    "\n",
    "# выполните запрос\n",
    "avg_day_users = pd.read_sql_query(query5, con=engine) "
   ]
  },
  {
   "cell_type": "code",
   "execution_count": 24,
   "metadata": {},
   "outputs": [
    {
     "data": {
      "text/html": [
       "<div>\n",
       "<style scoped>\n",
       "    .dataframe tbody tr th:only-of-type {\n",
       "        vertical-align: middle;\n",
       "    }\n",
       "\n",
       "    .dataframe tbody tr th {\n",
       "        vertical-align: top;\n",
       "    }\n",
       "\n",
       "    .dataframe thead th {\n",
       "        text-align: right;\n",
       "    }\n",
       "</style>\n",
       "<table border=\"1\" class=\"dataframe\">\n",
       "  <thead>\n",
       "    <tr style=\"text-align: right;\">\n",
       "      <th></th>\n",
       "      <th>round</th>\n",
       "    </tr>\n",
       "  </thead>\n",
       "  <tbody>\n",
       "    <tr>\n",
       "      <th>0</th>\n",
       "      <td>2</td>\n",
       "    </tr>\n",
       "  </tbody>\n",
       "</table>\n",
       "</div>"
      ],
      "text/plain": [
       "   round\n",
       "0      2"
      ]
     },
     "execution_count": 24,
     "metadata": {},
     "output_type": "execute_result"
    }
   ],
   "source": [
    "avg_day_users"
   ]
  },
  {
   "cell_type": "markdown",
   "metadata": {},
   "source": [
    "<div class=\"alert alert-warning\" style=\"border-radius: 15px; box-shadow: 4px 4px 4px; border: 1px solid \">\n",
    "<h2> Комментарий ревьюера v_1: <a class=\"tocSkip\"> </h2>\n",
    "    \n",
    "⚠️ Результат лучше вывести целым числом, а не десятичной дробью.\n",
    "</div>"
   ]
  },
  {
   "cell_type": "markdown",
   "metadata": {},
   "source": [
    "<div class=\"alert alert-info\"  style=\"border-radius: 15px; box-shadow: 4px 4px 4px; border: 1px solid \">\n",
    "    \n",
    "<h2>Комментарий студента v_1: <a class=\"tocSkip\"> </h2>\n",
    "Сделано\n",
    "    \n",
    "</div>"
   ]
  },
  {
   "cell_type": "markdown",
   "metadata": {},
   "source": [
    "<div class=\"alert alert-success\" style=\"border-radius: 15px; box-shadow: 4px 4px 4px; border: 1px solid \">\n",
    "<h2> Комментарий ревьюера v_2: <a class=\"tocSkip\"> </h2>\n",
    "    \n",
    "✅ +\n",
    "</div>  "
   ]
  },
  {
   "cell_type": "markdown",
   "metadata": {
    "id": "2K5G3xuBDWK7"
   },
   "source": [
    "<details>\n",
    "\n",
    "<summary>Подсказка</summary>\n",
    "Посчитайте, сколько активных дней было у каждого пользователя. Добавьте данные во временную таблицу и используйте в основном запросе.\n",
    "</details>"
   ]
  },
  {
   "cell_type": "markdown",
   "metadata": {
    "id": "UJFtNNggDWK7"
   },
   "source": [
    "Проанализируйте итоговую таблицу — какие выводы можно сделать?"
   ]
  },
  {
   "cell_type": "code",
   "execution_count": 25,
   "metadata": {
    "id": "LfUuYz-1DWK8"
   },
   "outputs": [],
   "source": [
    "# напишите ваш ответ здесь"
   ]
  },
  {
   "cell_type": "markdown",
   "metadata": {},
   "source": [
    "В период с 1 по 7 декабря 2008 года в среднем каждый пользователь взаимодействовал с платформой два календарных дня."
   ]
  },
  {
   "cell_type": "markdown",
   "metadata": {
    "id": "wfOmqmfLDWK8"
   },
   "source": [
    "# Задание 7"
   ]
  },
  {
   "cell_type": "markdown",
   "metadata": {
    "id": "X4ARQimADWK9"
   },
   "source": [
    "Выведите историю активности каждого пользователя в таком виде: идентификатор пользователя, дата публикации поста. Отсортируйте вывод по возрастанию идентификаторов пользователей, а для каждого пользователя — по возрастанию даты публикации.\n",
    "\n",
    "Добавьте в таблицу новое поле: для каждого поста в нём будет указано название месяца предпоследней публикации пользователя относительно текущей. Если такой публикации нет, укажите `NULL`.  Python автоматически поменяет `NULL` на `None`, но дополнительно преобразовывать значения `None` вам не нужно.\n",
    "\n",
    "Посмотрите внимательно на образец таблицы: для первых двух постов предпоследней публикации нет, но, начиная с третьего поста, в новое поле входит нужный месяц. Для следующего пользователя в первые две записи поля `second_last_month` тоже войдёт `NULL`."
   ]
  },
  {
   "cell_type": "markdown",
   "metadata": {
    "id": "IGPjRP01DWK9"
   },
   "source": [
    "| user_id | creation_date | second_last_month |\n",
    "| ------- | ------------- | ----------------- |\n",
    "| 1       | 2008-07-31 23:41:00 | None |\n",
    "| 1       | 2008-07-31 23:55:38 | None |\n",
    "| 1       | 2008-07-31 23:56:41 | July |\n",
    "| 1       | 2008-08-04 02:45:08 | July |\n",
    "| 1       | 2008-08-04 04:31:03 | July |\n",
    "| 1       | 2008-08-04 08:04:42 | August |\n",
    "| ... | ... | ... |"
   ]
  },
  {
   "cell_type": "code",
   "execution_count": 26,
   "metadata": {
    "id": "HzI1vhaMDWK-"
   },
   "outputs": [],
   "source": [
    "# напишите запрос\n",
    "query6 = '''\n",
    "SELECT user_id, creation_date,\n",
    "INITCAP(TO_CHAR(LAG(creation_date,2,NULL) OVER (PARTITION BY user_id ORDER BY creation_date),'month')) AS second_last_month\n",
    "FROM stackoverflow.posts\n",
    "ORDER BY user_id, creation_date\n",
    "'''\n",
    "\n",
    "# выполните запрос\n",
    "second_last = pd.read_sql_query(query6, con=engine) "
   ]
  },
  {
   "cell_type": "code",
   "execution_count": 27,
   "metadata": {},
   "outputs": [
    {
     "data": {
      "text/html": [
       "<div>\n",
       "<style scoped>\n",
       "    .dataframe tbody tr th:only-of-type {\n",
       "        vertical-align: middle;\n",
       "    }\n",
       "\n",
       "    .dataframe tbody tr th {\n",
       "        vertical-align: top;\n",
       "    }\n",
       "\n",
       "    .dataframe thead th {\n",
       "        text-align: right;\n",
       "    }\n",
       "</style>\n",
       "<table border=\"1\" class=\"dataframe\">\n",
       "  <thead>\n",
       "    <tr style=\"text-align: right;\">\n",
       "      <th></th>\n",
       "      <th>user_id</th>\n",
       "      <th>creation_date</th>\n",
       "      <th>second_last_month</th>\n",
       "    </tr>\n",
       "  </thead>\n",
       "  <tbody>\n",
       "    <tr>\n",
       "      <th>0</th>\n",
       "      <td>1</td>\n",
       "      <td>2008-07-31 23:41:00</td>\n",
       "      <td>None</td>\n",
       "    </tr>\n",
       "    <tr>\n",
       "      <th>1</th>\n",
       "      <td>1</td>\n",
       "      <td>2008-07-31 23:55:38</td>\n",
       "      <td>None</td>\n",
       "    </tr>\n",
       "    <tr>\n",
       "      <th>2</th>\n",
       "      <td>1</td>\n",
       "      <td>2008-07-31 23:56:41</td>\n",
       "      <td>July</td>\n",
       "    </tr>\n",
       "    <tr>\n",
       "      <th>3</th>\n",
       "      <td>1</td>\n",
       "      <td>2008-08-04 02:45:08</td>\n",
       "      <td>July</td>\n",
       "    </tr>\n",
       "    <tr>\n",
       "      <th>4</th>\n",
       "      <td>1</td>\n",
       "      <td>2008-08-04 04:31:03</td>\n",
       "      <td>July</td>\n",
       "    </tr>\n",
       "    <tr>\n",
       "      <th>...</th>\n",
       "      <td>...</td>\n",
       "      <td>...</td>\n",
       "      <td>...</td>\n",
       "    </tr>\n",
       "    <tr>\n",
       "      <th>243791</th>\n",
       "      <td>5696608</td>\n",
       "      <td>2008-12-23 16:00:37</td>\n",
       "      <td>December</td>\n",
       "    </tr>\n",
       "    <tr>\n",
       "      <th>243792</th>\n",
       "      <td>5696608</td>\n",
       "      <td>2008-12-23 17:35:09</td>\n",
       "      <td>December</td>\n",
       "    </tr>\n",
       "    <tr>\n",
       "      <th>243793</th>\n",
       "      <td>5696608</td>\n",
       "      <td>2008-12-24 01:02:48</td>\n",
       "      <td>December</td>\n",
       "    </tr>\n",
       "    <tr>\n",
       "      <th>243794</th>\n",
       "      <td>5696608</td>\n",
       "      <td>2008-12-30 14:34:45</td>\n",
       "      <td>December</td>\n",
       "    </tr>\n",
       "    <tr>\n",
       "      <th>243795</th>\n",
       "      <td>5696608</td>\n",
       "      <td>2008-12-30 16:32:12</td>\n",
       "      <td>December</td>\n",
       "    </tr>\n",
       "  </tbody>\n",
       "</table>\n",
       "<p>243796 rows × 3 columns</p>\n",
       "</div>"
      ],
      "text/plain": [
       "        user_id       creation_date second_last_month\n",
       "0             1 2008-07-31 23:41:00              None\n",
       "1             1 2008-07-31 23:55:38              None\n",
       "2             1 2008-07-31 23:56:41         July     \n",
       "3             1 2008-08-04 02:45:08         July     \n",
       "4             1 2008-08-04 04:31:03         July     \n",
       "...         ...                 ...               ...\n",
       "243791  5696608 2008-12-23 16:00:37         December \n",
       "243792  5696608 2008-12-23 17:35:09         December \n",
       "243793  5696608 2008-12-24 01:02:48         December \n",
       "243794  5696608 2008-12-30 14:34:45         December \n",
       "243795  5696608 2008-12-30 16:32:12         December \n",
       "\n",
       "[243796 rows x 3 columns]"
      ]
     },
     "execution_count": 27,
     "metadata": {},
     "output_type": "execute_result"
    }
   ],
   "source": [
    "second_last"
   ]
  },
  {
   "cell_type": "markdown",
   "metadata": {},
   "source": [
    "<div class=\"alert alert-success\" style=\"border-radius: 15px; box-shadow: 4px 4px 4px; border: 1px solid \">\n",
    "<h2> Комментарий ревьюера v_1: <a class=\"tocSkip\"> </h2>\n",
    "    \n",
    "✅ История активности каждого пользователя выведена правильно.\n",
    "</div>  "
   ]
  },
  {
   "cell_type": "markdown",
   "metadata": {
    "id": "7dqoKkncDWK_"
   },
   "source": [
    "<details>\n",
    "\n",
    "<summary>Подсказка</summary>\n",
    "Преобразовать результат оконной функции в нужное значение вам поможет аналог условного оператора в SQL: CASE <поле> WHEN <старое значение> THEN <новое значение> END.\n",
    "</details>"
   ]
  },
  {
   "cell_type": "markdown",
   "metadata": {
    "id": "tf9qq2yzDWK_"
   },
   "source": [
    "# Задание 8"
   ]
  },
  {
   "cell_type": "markdown",
   "metadata": {
    "id": "gfwLVXBYDWLA"
   },
   "source": [
    "Рассчитайте аналог Retention Rate по месяцам для пользователей StackOverflow. Объедините пользователей в когорты по месяцу их первого поста. Возвращение определяйте по наличию поста в текущем месяце. "
   ]
  },
  {
   "cell_type": "markdown",
   "metadata": {
    "id": "kN2ic39WlKpl"
   },
   "source": [
    "| cohort_dt | session_date | users_cnt | cohort_users_cnt | retention_rate |\n",
    "| --- | --- | --- | --- | --- |\n",
    "| 2008-07-01 00:00:00 | 2008-07-01 00:00:00 | 3 | 3 | 100 |\n",
    "| 2008-07-01 00:00:00 | 2008-08-01 00:00:00 | 2 | 3 | 66,67 |\n",
    "| 2008-07-01 00:00:00 | 2008-09-01 00:00:00 | 1 | 3 | 33,33 |\n",
    "| 2008-07-01 00:00:00 | 2008-10-01 00:00:00 | 2 | 3 | 66,67 |\n",
    "| 2008-07-01 00:00:00 | 2008-11-01 00:00:00 | 1 | 3 | 33,33 |\n",
    "| 2008-07-01 00:00:00 | 2008-12-01 00:00:00 | 2 | 3 | 66,67 |\n",
    "| 2008-08-01 00:00:00 | 2008-08-01 00:00:00 | 2151 | 2151 | 100 |\n",
    "| ... | ... | ... | ... | ... |"
   ]
  },
  {
   "cell_type": "code",
   "execution_count": 28,
   "metadata": {
    "id": "LUgFmwmTDWLB"
   },
   "outputs": [],
   "source": [
    "# напишите запрос\n",
    "query7 = '''\n",
    "SELECT start_month,event_month, COUNT(DISTINCT user_id) AS users_cnt, \n",
    "      MAX(COUNT(DISTINCT user_id)) OVER (PARTITION BY start_month) AS chogort_size,\n",
    "      ROUND(100*COUNT(DISTINCT user_id)::numeric/MAX(COUNT(DISTINCT user_id)) OVER (PARTITION BY start_month),2) AS retention\n",
    "FROM (SELECT user_id, DATE_TRUNC('month', creation_date)::date AS event_month, \n",
    "      DATE_TRUNC('month',MIN(creation_date) OVER (PARTITION BY user_id))::date AS start_month\n",
    "     FROM stackoverflow.posts) AS t\n",
    "GROUP BY start_month,event_month\n",
    "'''\n",
    "\n",
    "# выполните запрос\n",
    "retention = pd.read_sql_query(query7, con=engine)"
   ]
  },
  {
   "cell_type": "code",
   "execution_count": 29,
   "metadata": {},
   "outputs": [
    {
     "data": {
      "text/html": [
       "<div>\n",
       "<style scoped>\n",
       "    .dataframe tbody tr th:only-of-type {\n",
       "        vertical-align: middle;\n",
       "    }\n",
       "\n",
       "    .dataframe tbody tr th {\n",
       "        vertical-align: top;\n",
       "    }\n",
       "\n",
       "    .dataframe thead th {\n",
       "        text-align: right;\n",
       "    }\n",
       "</style>\n",
       "<table border=\"1\" class=\"dataframe\">\n",
       "  <thead>\n",
       "    <tr style=\"text-align: right;\">\n",
       "      <th></th>\n",
       "      <th>start_month</th>\n",
       "      <th>event_month</th>\n",
       "      <th>users_cnt</th>\n",
       "      <th>chogort_size</th>\n",
       "      <th>retention</th>\n",
       "    </tr>\n",
       "  </thead>\n",
       "  <tbody>\n",
       "    <tr>\n",
       "      <th>0</th>\n",
       "      <td>2008-07-01</td>\n",
       "      <td>2008-07-01</td>\n",
       "      <td>3</td>\n",
       "      <td>3</td>\n",
       "      <td>100.00</td>\n",
       "    </tr>\n",
       "    <tr>\n",
       "      <th>1</th>\n",
       "      <td>2008-07-01</td>\n",
       "      <td>2008-08-01</td>\n",
       "      <td>2</td>\n",
       "      <td>3</td>\n",
       "      <td>66.67</td>\n",
       "    </tr>\n",
       "    <tr>\n",
       "      <th>2</th>\n",
       "      <td>2008-07-01</td>\n",
       "      <td>2008-09-01</td>\n",
       "      <td>1</td>\n",
       "      <td>3</td>\n",
       "      <td>33.33</td>\n",
       "    </tr>\n",
       "    <tr>\n",
       "      <th>3</th>\n",
       "      <td>2008-07-01</td>\n",
       "      <td>2008-10-01</td>\n",
       "      <td>2</td>\n",
       "      <td>3</td>\n",
       "      <td>66.67</td>\n",
       "    </tr>\n",
       "    <tr>\n",
       "      <th>4</th>\n",
       "      <td>2008-07-01</td>\n",
       "      <td>2008-11-01</td>\n",
       "      <td>1</td>\n",
       "      <td>3</td>\n",
       "      <td>33.33</td>\n",
       "    </tr>\n",
       "    <tr>\n",
       "      <th>5</th>\n",
       "      <td>2008-07-01</td>\n",
       "      <td>2008-12-01</td>\n",
       "      <td>2</td>\n",
       "      <td>3</td>\n",
       "      <td>66.67</td>\n",
       "    </tr>\n",
       "    <tr>\n",
       "      <th>6</th>\n",
       "      <td>2008-08-01</td>\n",
       "      <td>2008-08-01</td>\n",
       "      <td>2151</td>\n",
       "      <td>2151</td>\n",
       "      <td>100.00</td>\n",
       "    </tr>\n",
       "    <tr>\n",
       "      <th>7</th>\n",
       "      <td>2008-08-01</td>\n",
       "      <td>2008-09-01</td>\n",
       "      <td>1571</td>\n",
       "      <td>2151</td>\n",
       "      <td>73.04</td>\n",
       "    </tr>\n",
       "    <tr>\n",
       "      <th>8</th>\n",
       "      <td>2008-08-01</td>\n",
       "      <td>2008-10-01</td>\n",
       "      <td>1275</td>\n",
       "      <td>2151</td>\n",
       "      <td>59.27</td>\n",
       "    </tr>\n",
       "    <tr>\n",
       "      <th>9</th>\n",
       "      <td>2008-08-01</td>\n",
       "      <td>2008-11-01</td>\n",
       "      <td>1050</td>\n",
       "      <td>2151</td>\n",
       "      <td>48.81</td>\n",
       "    </tr>\n",
       "    <tr>\n",
       "      <th>10</th>\n",
       "      <td>2008-08-01</td>\n",
       "      <td>2008-12-01</td>\n",
       "      <td>894</td>\n",
       "      <td>2151</td>\n",
       "      <td>41.56</td>\n",
       "    </tr>\n",
       "    <tr>\n",
       "      <th>11</th>\n",
       "      <td>2008-09-01</td>\n",
       "      <td>2008-09-01</td>\n",
       "      <td>7678</td>\n",
       "      <td>7678</td>\n",
       "      <td>100.00</td>\n",
       "    </tr>\n",
       "    <tr>\n",
       "      <th>12</th>\n",
       "      <td>2008-09-01</td>\n",
       "      <td>2008-10-01</td>\n",
       "      <td>4132</td>\n",
       "      <td>7678</td>\n",
       "      <td>53.82</td>\n",
       "    </tr>\n",
       "    <tr>\n",
       "      <th>13</th>\n",
       "      <td>2008-09-01</td>\n",
       "      <td>2008-11-01</td>\n",
       "      <td>2966</td>\n",
       "      <td>7678</td>\n",
       "      <td>38.63</td>\n",
       "    </tr>\n",
       "    <tr>\n",
       "      <th>14</th>\n",
       "      <td>2008-09-01</td>\n",
       "      <td>2008-12-01</td>\n",
       "      <td>2500</td>\n",
       "      <td>7678</td>\n",
       "      <td>32.56</td>\n",
       "    </tr>\n",
       "    <tr>\n",
       "      <th>15</th>\n",
       "      <td>2008-10-01</td>\n",
       "      <td>2008-10-01</td>\n",
       "      <td>3629</td>\n",
       "      <td>3629</td>\n",
       "      <td>100.00</td>\n",
       "    </tr>\n",
       "    <tr>\n",
       "      <th>16</th>\n",
       "      <td>2008-10-01</td>\n",
       "      <td>2008-11-01</td>\n",
       "      <td>1640</td>\n",
       "      <td>3629</td>\n",
       "      <td>45.19</td>\n",
       "    </tr>\n",
       "    <tr>\n",
       "      <th>17</th>\n",
       "      <td>2008-10-01</td>\n",
       "      <td>2008-12-01</td>\n",
       "      <td>1221</td>\n",
       "      <td>3629</td>\n",
       "      <td>33.65</td>\n",
       "    </tr>\n",
       "    <tr>\n",
       "      <th>18</th>\n",
       "      <td>2008-11-01</td>\n",
       "      <td>2008-11-01</td>\n",
       "      <td>2852</td>\n",
       "      <td>2852</td>\n",
       "      <td>100.00</td>\n",
       "    </tr>\n",
       "    <tr>\n",
       "      <th>19</th>\n",
       "      <td>2008-11-01</td>\n",
       "      <td>2008-12-01</td>\n",
       "      <td>1151</td>\n",
       "      <td>2852</td>\n",
       "      <td>40.36</td>\n",
       "    </tr>\n",
       "    <tr>\n",
       "      <th>20</th>\n",
       "      <td>2008-12-01</td>\n",
       "      <td>2008-12-01</td>\n",
       "      <td>2536</td>\n",
       "      <td>2536</td>\n",
       "      <td>100.00</td>\n",
       "    </tr>\n",
       "  </tbody>\n",
       "</table>\n",
       "</div>"
      ],
      "text/plain": [
       "   start_month event_month  users_cnt  chogort_size  retention\n",
       "0   2008-07-01  2008-07-01          3             3     100.00\n",
       "1   2008-07-01  2008-08-01          2             3      66.67\n",
       "2   2008-07-01  2008-09-01          1             3      33.33\n",
       "3   2008-07-01  2008-10-01          2             3      66.67\n",
       "4   2008-07-01  2008-11-01          1             3      33.33\n",
       "5   2008-07-01  2008-12-01          2             3      66.67\n",
       "6   2008-08-01  2008-08-01       2151          2151     100.00\n",
       "7   2008-08-01  2008-09-01       1571          2151      73.04\n",
       "8   2008-08-01  2008-10-01       1275          2151      59.27\n",
       "9   2008-08-01  2008-11-01       1050          2151      48.81\n",
       "10  2008-08-01  2008-12-01        894          2151      41.56\n",
       "11  2008-09-01  2008-09-01       7678          7678     100.00\n",
       "12  2008-09-01  2008-10-01       4132          7678      53.82\n",
       "13  2008-09-01  2008-11-01       2966          7678      38.63\n",
       "14  2008-09-01  2008-12-01       2500          7678      32.56\n",
       "15  2008-10-01  2008-10-01       3629          3629     100.00\n",
       "16  2008-10-01  2008-11-01       1640          3629      45.19\n",
       "17  2008-10-01  2008-12-01       1221          3629      33.65\n",
       "18  2008-11-01  2008-11-01       2852          2852     100.00\n",
       "19  2008-11-01  2008-12-01       1151          2852      40.36\n",
       "20  2008-12-01  2008-12-01       2536          2536     100.00"
      ]
     },
     "execution_count": 29,
     "metadata": {},
     "output_type": "execute_result"
    }
   ],
   "source": [
    "retention"
   ]
  },
  {
   "cell_type": "markdown",
   "metadata": {},
   "source": [
    "<div class=\"alert alert-success\" style=\"border-radius: 15px; box-shadow: 4px 4px 4px; border: 1px solid \">\n",
    "<h2> Комментарий ревьюера v_1: <a class=\"tocSkip\"> </h2>\n",
    "    \n",
    "✅ Хорошо, Retention Rate расчитан верно.\n",
    "</div>  "
   ]
  },
  {
   "cell_type": "markdown",
   "metadata": {
    "id": "Yavb5o9JDWLB"
   },
   "source": [
    "<details>\n",
    "\n",
    "<summary>Подсказка</summary>\n",
    "Вспомните, как выглядел запрос для расчёта Retention Rate в теории. Создайте две временные таблицы: `profile` и `sessions` (в ней будет информация о публикациях), а затем используйте их в основном запросе.\n",
    "\n",
    "Во временной таблице `profile` вам понадобятся три поля:\n",
    "\n",
    "- идентификатор пользователя;\n",
    "- дата первого поста пользователя, усечённая до месяца (признак начала когорты);\n",
    "- количество пользователей этой когорты.\n",
    "</details>"
   ]
  },
  {
   "cell_type": "markdown",
   "metadata": {
    "id": "_msBtnb2DWLC"
   },
   "source": [
    "Постройте тепловую карту Retention Rate. Какие аномалии или другие необычные явления удалось выявить? Сформулируйте гипотезы о возможных причинах."
   ]
  },
  {
   "cell_type": "code",
   "execution_count": 30,
   "metadata": {
    "id": "qAEJc8H1DWLC"
   },
   "outputs": [],
   "source": [
    "# постройте тепловую карту Retention Rate\n",
    "# создаём сводную таблицу с результатами\n",
    "retention1 = retention.pivot('start_month', 'event_month', 'retention')"
   ]
  },
  {
   "cell_type": "code",
   "execution_count": 31,
   "metadata": {},
   "outputs": [
    {
     "data": {
      "image/png": "[encoded data removed]",
      "text/plain": [
       "<Figure size 720x288 with 2 Axes>"
      ]
     },
     "metadata": {
      "needs_background": "light"
     },
     "output_type": "display_data"
    }
   ],
   "source": [
    "plt.figure(figsize=(10, 4)) # задаём размер графика\n",
    "sns.heatmap(retention1, # датафрейм с данными\n",
    "            annot=True, # добавляем подписи\n",
    "            fmt='') # задаём исходный формат\n",
    "plt.title('Удержание по месяцам') \n",
    "plt.xlabel('месяц посещения')\n",
    "plt.ylabel('месяц старта когорты')\n",
    "plt.show() "
   ]
  },
  {
   "cell_type": "code",
   "execution_count": 32,
   "metadata": {
    "id": "EgOfIsI4DWLC"
   },
   "outputs": [],
   "source": [
    "# опишите аномалии или другие необычные явления и сформулируйте гипотезы"
   ]
  },
  {
   "cell_type": "markdown",
   "metadata": {},
   "source": [
    "Можно заметить, что удержание когорты июля имеет повторяющиеся значения, если взглянуть на таблицу удержания, становится очевидно, что сильно влияет количество человек в когорте,  всего 3.Сравнивать эту когорту с другими нецелесообразно. Наибольшее удержание второго месяца у когорты августа месяца, что конечно связано с активным тестированием бета-версии заинтересованных пользователей. В целом когорта августа показывает наилучшие показатели удержания. Чем дальше месяц старта пользователей, тем меньше процент удержания в последующие периоды.Т.е процент удержания для одинаковых по счету месяцев посещения снижается от когорты к последующей когорте.Но вместе с тем стоит ометить очень высокий процент возвращающихся в целом, в сочетании с возможностью просмотра контента без регистрации, это говорит об актуальной тематике сайта.Вообще если говорить о специфики сайта,то активность зарегистрированных пользователй может снижаться за счет роста \"бызы знаний\" - решенных вопросов. Вместе с естественным снижением удержания зарегистрированных пользователей, посещаемость сайта может только расти."
   ]
  },
  {
   "cell_type": "markdown",
   "metadata": {
    "id": "1k7oPWt5DWLK"
   },
   "source": [
    "# Задание 9\n"
   ]
  },
  {
   "cell_type": "markdown",
   "metadata": {
    "id": "ALsYVSyRDWLM"
   },
   "source": [
    "На сколько процентов менялось количество постов ежемесячно с 1 сентября по 31 декабря 2008 года? Отобразите таблицу со следующими полями:\n",
    "\n",
    "- номер месяца;\n",
    "- количество постов за месяц;\n",
    "- процент, который показывает, насколько изменилось количество постов в текущем месяце по сравнению с предыдущим.\n",
    "\n",
    "Если постов стало меньше, значение процента должно быть отрицательным, если больше — положительным. Округлите значение процента до двух знаков после запятой.\n",
    "\n",
    "Напомним, что при делении одного целого числа на другое в PostgreSQL в результате получится целое число, округлённое до ближайшего целого вниз. Чтобы этого избежать, переведите делимое в тип `numeric`."
   ]
  },
  {
   "cell_type": "markdown",
   "metadata": {
    "id": "u4E2zF8DDWLM"
   },
   "source": [
    "| creation_month | posts_count | percentage |\n",
    "| -------------- | ----------- | ---------- |\n",
    "| 9 | 70731 | Nan |\n",
    "| 10 | 63102 | -10.33 |\n",
    "| ... | ... | ... |"
   ]
  },
  {
   "cell_type": "code",
   "execution_count": 33,
   "metadata": {
    "id": "Mb5pShStDWLN"
   },
   "outputs": [],
   "source": [
    "# напишите запрос\n",
    "query8 = '''\n",
    "SELECT creation_month, posts_count,\n",
    "     ROUND(100*(posts_count::numeric - LAG(posts_count) OVER (ORDER BY creation_month))/\n",
    "                                       LAG(posts_count) OVER (ORDER BY creation_month),2) AS percentage\n",
    "FROM (SELECT DISTINCT EXTRACT('month' FROM creation_date::date)::integer AS creation_month,\n",
    "       COUNT(id) OVER (PARTITION BY DATE_TRUNC('month',creation_date)::date) AS posts_count\n",
    "      FROM stackoverflow.posts\n",
    "      WHERE creation_date::date BETWEEN '2008-09-01' AND '2008-12-31') AS t\n",
    "'''\n",
    "\n",
    "# выполните запрос\n",
    "percentage_posts = pd.read_sql_query(query8, con=engine)"
   ]
  },
  {
   "cell_type": "code",
   "execution_count": 34,
   "metadata": {},
   "outputs": [
    {
     "data": {
      "text/html": [
       "<div>\n",
       "<style scoped>\n",
       "    .dataframe tbody tr th:only-of-type {\n",
       "        vertical-align: middle;\n",
       "    }\n",
       "\n",
       "    .dataframe tbody tr th {\n",
       "        vertical-align: top;\n",
       "    }\n",
       "\n",
       "    .dataframe thead th {\n",
       "        text-align: right;\n",
       "    }\n",
       "</style>\n",
       "<table border=\"1\" class=\"dataframe\">\n",
       "  <thead>\n",
       "    <tr style=\"text-align: right;\">\n",
       "      <th></th>\n",
       "      <th>creation_month</th>\n",
       "      <th>posts_count</th>\n",
       "      <th>percentage</th>\n",
       "    </tr>\n",
       "  </thead>\n",
       "  <tbody>\n",
       "    <tr>\n",
       "      <th>0</th>\n",
       "      <td>9</td>\n",
       "      <td>70371</td>\n",
       "      <td>NaN</td>\n",
       "    </tr>\n",
       "    <tr>\n",
       "      <th>1</th>\n",
       "      <td>10</td>\n",
       "      <td>63102</td>\n",
       "      <td>-10.33</td>\n",
       "    </tr>\n",
       "    <tr>\n",
       "      <th>2</th>\n",
       "      <td>11</td>\n",
       "      <td>46975</td>\n",
       "      <td>-25.56</td>\n",
       "    </tr>\n",
       "    <tr>\n",
       "      <th>3</th>\n",
       "      <td>12</td>\n",
       "      <td>44592</td>\n",
       "      <td>-5.07</td>\n",
       "    </tr>\n",
       "  </tbody>\n",
       "</table>\n",
       "</div>"
      ],
      "text/plain": [
       "   creation_month  posts_count  percentage\n",
       "0               9        70371         NaN\n",
       "1              10        63102      -10.33\n",
       "2              11        46975      -25.56\n",
       "3              12        44592       -5.07"
      ]
     },
     "execution_count": 34,
     "metadata": {},
     "output_type": "execute_result"
    }
   ],
   "source": [
    "percentage_posts"
   ]
  },
  {
   "cell_type": "markdown",
   "metadata": {},
   "source": [
    "<div class=\"alert alert-success\" style=\"border-radius: 15px; box-shadow: 4px 4px 4px; border: 1px solid \">\n",
    "<h2> Комментарий ревьюера v_1: <a class=\"tocSkip\"> </h2>\n",
    "    \n",
    "✅ Да, в таблице видно, на сколько процентов менялось количество постов ежемесячно в заданный период.\n",
    "</div>  "
   ]
  },
  {
   "cell_type": "markdown",
   "metadata": {
    "id": "G0VSDL4HDWLO"
   },
   "source": [
    "<details>\n",
    "\n",
    "<summary>Подсказка</summary>\n",
    "Эту задачу стоит декомпозировать. Сформируйте запрос, который отобразит номер месяца и количество постов. Затем можно использовать оконную функцию, которая вернёт значение за предыдущий месяц, и посчитать процент.\n",
    "</details>"
   ]
  },
  {
   "cell_type": "markdown",
   "metadata": {
    "id": "9NQE2y_MDWLP"
   },
   "source": [
    "Постройте круговую диаграмму с количеством постов по месяцам."
   ]
  },
  {
   "cell_type": "code",
   "execution_count": 35,
   "metadata": {
    "id": "377ABjiVDWLP"
   },
   "outputs": [],
   "source": [
    "# постройте круговую диаграмму с количеством постов по месяцам"
   ]
  },
  {
   "cell_type": "code",
   "execution_count": 36,
   "metadata": {},
   "outputs": [
    {
     "data": {
      "image/png": "[encoded data removed]",
      "text/plain": [
       "<Figure size 432x288 with 1 Axes>"
      ]
     },
     "metadata": {},
     "output_type": "display_data"
    }
   ],
   "source": [
    "percentage_posts.plot(kind='pie', y='posts_count',autopct='%1.0f%%',labels = ['сентябрь','октябрь', 'ноябрь', 'декабрь'],\\\n",
    "                     title = 'Соотношение количества просмотров с сентября по декабрь 2008')\n",
    "plt.legend(['сентябрь','октябрь', 'ноябрь', 'декабрь'],loc='upper left', bbox_to_anchor=(1.0, 1.0))\n",
    "plt.ylabel(\"\");"
   ]
  },
  {
   "cell_type": "markdown",
   "metadata": {
    "id": "uw7qMtafDWLP"
   },
   "source": [
    "# Задание 10"
   ]
  },
  {
   "cell_type": "markdown",
   "metadata": {
    "id": "oRBpWKx3DWLQ"
   },
   "source": [
    "Выгрузите данные активности пользователя, который опубликовал больше всего постов за всё время. Выведите данные за октябрь 2008 года в таком виде:\n",
    "\n",
    "- номер недели;\n",
    "- дата и время последнего поста, опубликованного на этой неделе."
   ]
  },
  {
   "cell_type": "markdown",
   "metadata": {
    "id": "XjAWSn_3DWLQ"
   },
   "source": [
    "| week_creation | creation_date |\n",
    "| ------------- | ------------- |\n",
    "| 40 | 2008-10-05 09:00:58 |\n",
    "| 41 | 2008-10-12 21:22:23 |\n",
    "| ... | ... |"
   ]
  },
  {
   "cell_type": "code",
   "execution_count": 37,
   "metadata": {
    "id": "r5F5fSkwDWLQ"
   },
   "outputs": [],
   "source": [
    "# напишите запрос\n",
    "query9 = '''\n",
    "SELECT DISTINCT week_creation, MAX(creation_date) OVER (PARTITION BY week_creation) AS creation_date\n",
    "FROM (SELECT DISTINCT user_id, COUNT(id) OVER (PARTITION BY user_id)\n",
    "      FROM stackoverflow.posts\n",
    "      ORDER BY 2 DESC\n",
    "      LIMIT 1) AS t INNER JOIN (SELECT user_id, EXTRACT(week FROM creation_date)::integer AS week_creation,creation_date \n",
    "                          FROM stackoverflow.posts\n",
    "                          WHERE DATE_TRUNC('month', creation_date)::date = '2008-10-01') AS t1 ON t.user_id = t1.user_id\n",
    "'''\n",
    "\n",
    "# выполните запрос"
   ]
  },
  {
   "cell_type": "markdown",
   "metadata": {
    "id": "KAcmxvLgDWLR"
   },
   "source": [
    "<details>\n",
    "\n",
    "<summary>Подсказка</summary>\n",
    "Декомпозируйте задачу:\n",
    "1) Найдите пользователя, который опубликовал больше всего постов. 2) Найдите дату и время создания каждого поста этого пользователя и номер недели. \n",
    "3) Отобразите данные только о последних постах пользователя. Для этого можно использовать оконную функцию.\n",
    "</details>"
   ]
  },
  {
   "cell_type": "code",
   "execution_count": 38,
   "metadata": {},
   "outputs": [],
   "source": [
    "last_posts = pd.read_sql_query(query9, con=engine)"
   ]
  },
  {
   "cell_type": "code",
   "execution_count": 39,
   "metadata": {},
   "outputs": [
    {
     "data": {
      "text/html": [
       "<div>\n",
       "<style scoped>\n",
       "    .dataframe tbody tr th:only-of-type {\n",
       "        vertical-align: middle;\n",
       "    }\n",
       "\n",
       "    .dataframe tbody tr th {\n",
       "        vertical-align: top;\n",
       "    }\n",
       "\n",
       "    .dataframe thead th {\n",
       "        text-align: right;\n",
       "    }\n",
       "</style>\n",
       "<table border=\"1\" class=\"dataframe\">\n",
       "  <thead>\n",
       "    <tr style=\"text-align: right;\">\n",
       "      <th></th>\n",
       "      <th>week_creation</th>\n",
       "      <th>creation_date</th>\n",
       "    </tr>\n",
       "  </thead>\n",
       "  <tbody>\n",
       "    <tr>\n",
       "      <th>0</th>\n",
       "      <td>40</td>\n",
       "      <td>2008-10-05 09:00:58</td>\n",
       "    </tr>\n",
       "    <tr>\n",
       "      <th>1</th>\n",
       "      <td>41</td>\n",
       "      <td>2008-10-12 21:22:23</td>\n",
       "    </tr>\n",
       "    <tr>\n",
       "      <th>2</th>\n",
       "      <td>42</td>\n",
       "      <td>2008-10-19 06:49:30</td>\n",
       "    </tr>\n",
       "    <tr>\n",
       "      <th>3</th>\n",
       "      <td>43</td>\n",
       "      <td>2008-10-26 21:44:36</td>\n",
       "    </tr>\n",
       "    <tr>\n",
       "      <th>4</th>\n",
       "      <td>44</td>\n",
       "      <td>2008-10-31 22:16:01</td>\n",
       "    </tr>\n",
       "  </tbody>\n",
       "</table>\n",
       "</div>"
      ],
      "text/plain": [
       "   week_creation       creation_date\n",
       "0             40 2008-10-05 09:00:58\n",
       "1             41 2008-10-12 21:22:23\n",
       "2             42 2008-10-19 06:49:30\n",
       "3             43 2008-10-26 21:44:36\n",
       "4             44 2008-10-31 22:16:01"
      ]
     },
     "execution_count": 39,
     "metadata": {},
     "output_type": "execute_result"
    }
   ],
   "source": [
    "last_posts "
   ]
  },
  {
   "cell_type": "markdown",
   "metadata": {},
   "source": [
    "<div class=\"alert alert-success\" style=\"border-radius: 15px; box-shadow: 4px 4px 4px; border: 1px solid \">\n",
    "<h2> Комментарий ревьюера v_1: <a class=\"tocSkip\"> </h2>\n",
    "    \n",
    "✅ Хорошо, верно выведены данные пользователя, опубликовавшего больше всего постов.\n",
    "</div>  "
   ]
  },
  {
   "cell_type": "markdown",
   "metadata": {},
   "source": [
    "<div style=\"border:solid lightblue 3px; background:#f7faf8; padding: 20px\">\n",
    "<span style=\"color:orange\">Общий вывод по проекту v_1:</span>\n",
    "    \n",
    "У тебя очень хорошая работа! Нет громоздких конструкций; код написан хорошо. Даны верные ответы на 9 из 10 заданий, оставлены аргументированные ответы на вопросы. Остается **критическое замечание** ко 2 заданию. Также оставил несколько рекомендаций в своих комментариях. Жду твой проект на повторное ревью!)"
   ]
  },
  {
   "cell_type": "markdown",
   "metadata": {},
   "source": [
    "<div style=\"border:solid lightblue 3px; background:#f7faf8; padding: 20px\">\n",
    "<span style=\"color:orange\">Общий вывод по проекту v_2:</span>\n",
    "\n",
    "Спасибо за доработанные замечания! Проект принят. Для углубления навыков работы с SQL советую ресурсы по [ссылке](https://techrocks.ru/2019/11/22/7-sites-to-perfect-sql-query-writing-skills/) и на Stepik'е. Успехов в дальнейшем обучении!)"
   ]
  },
  {
   "cell_type": "code",
   "execution_count": null,
   "metadata": {},
   "outputs": [],
   "source": []
  }
 ],
 "metadata": {
  "ExecuteTimeLog": [
   {
    "duration": 2389,
    "start_time": "2023-03-30T19:16:19.230Z"
   },
   {
    "duration": 1532,
    "start_time": "2023-03-30T19:16:21.621Z"
   },
   {
    "duration": 3,
    "start_time": "2023-03-30T19:16:23.155Z"
   },
   {
    "duration": 8856,
    "start_time": "2023-03-30T19:16:23.160Z"
   },
   {
    "duration": 78,
    "start_time": "2023-03-30T19:16:32.019Z"
   },
   {
    "duration": 20,
    "start_time": "2023-03-30T19:16:32.099Z"
   },
   {
    "duration": 242,
    "start_time": "2023-03-30T19:16:32.121Z"
   },
   {
    "duration": 7,
    "start_time": "2023-03-30T19:16:32.365Z"
   },
   {
    "duration": 299,
    "start_time": "2023-03-30T19:16:32.374Z"
   },
   {
    "duration": 146,
    "start_time": "2023-03-30T19:16:32.674Z"
   },
   {
    "duration": 14,
    "start_time": "2023-03-30T19:16:32.822Z"
   },
   {
    "duration": 2,
    "start_time": "2023-03-30T19:16:32.839Z"
   },
   {
    "duration": 149,
    "start_time": "2023-03-30T19:16:32.843Z"
   },
   {
    "duration": 7,
    "start_time": "2023-03-30T19:16:32.995Z"
   },
   {
    "duration": 199,
    "start_time": "2023-03-30T19:16:33.004Z"
   },
   {
    "duration": 4,
    "start_time": "2023-03-30T19:16:33.206Z"
   },
   {
    "duration": 1211,
    "start_time": "2023-03-30T19:16:33.211Z"
   },
   {
    "duration": 12,
    "start_time": "2023-03-30T19:16:34.424Z"
   },
   {
    "duration": 42,
    "start_time": "2023-03-30T19:16:34.437Z"
   },
   {
    "duration": 9,
    "start_time": "2023-03-30T19:16:34.481Z"
   },
   {
    "duration": 30,
    "start_time": "2023-03-30T19:16:34.492Z"
   },
   {
    "duration": 8,
    "start_time": "2023-03-30T19:16:34.525Z"
   },
   {
    "duration": 10,
    "start_time": "2023-03-30T19:16:34.535Z"
   },
   {
    "duration": 1197,
    "start_time": "2023-03-30T19:16:34.547Z"
   },
   {
    "duration": 11,
    "start_time": "2023-03-30T19:16:35.747Z"
   },
   {
    "duration": 315,
    "start_time": "2023-03-30T19:16:35.760Z"
   },
   {
    "duration": 11,
    "start_time": "2023-03-30T19:16:36.077Z"
   },
   {
    "duration": 17,
    "start_time": "2023-03-30T19:16:36.090Z"
   },
   {
    "duration": 435,
    "start_time": "2023-03-30T19:16:36.109Z"
   },
   {
    "duration": 2,
    "start_time": "2023-03-30T19:16:36.546Z"
   },
   {
    "duration": 241,
    "start_time": "2023-03-30T19:16:36.550Z"
   },
   {
    "duration": 7,
    "start_time": "2023-03-30T19:16:36.793Z"
   },
   {
    "duration": 10,
    "start_time": "2023-03-30T19:16:36.802Z"
   },
   {
    "duration": 140,
    "start_time": "2023-03-30T19:16:36.814Z"
   },
   {
    "duration": 3,
    "start_time": "2023-03-30T19:16:36.956Z"
   },
   {
    "duration": 264,
    "start_time": "2023-03-30T19:16:36.961Z"
   },
   {
    "duration": 10,
    "start_time": "2023-03-30T19:16:37.227Z"
   },
   {
    "duration": 230,
    "start_time": "2023-03-30T19:19:09.872Z"
   },
   {
    "duration": 139,
    "start_time": "2023-03-30T19:19:12.654Z"
   },
   {
    "duration": 32,
    "start_time": "2023-03-30T19:25:31.505Z"
   },
   {
    "duration": 7,
    "start_time": "2023-03-30T19:25:32.717Z"
   },
   {
    "duration": 3,
    "start_time": "2023-03-30T19:27:18.189Z"
   },
   {
    "duration": 268,
    "start_time": "2023-03-30T19:27:18.791Z"
   },
   {
    "duration": 7,
    "start_time": "2023-03-30T19:27:19.711Z"
   },
   {
    "duration": 3,
    "start_time": "2023-03-30T19:27:20.459Z"
   },
   {
    "duration": 256,
    "start_time": "2023-03-30T19:27:22.014Z"
   },
   {
    "duration": 9,
    "start_time": "2023-03-30T19:27:23.360Z"
   },
   {
    "duration": 2157,
    "start_time": "2023-03-30T19:27:51.143Z"
   },
   {
    "duration": 1283,
    "start_time": "2023-03-30T19:27:53.302Z"
   },
   {
    "duration": 3,
    "start_time": "2023-03-30T19:27:54.586Z"
   },
   {
    "duration": 8886,
    "start_time": "2023-03-30T19:27:54.591Z"
   },
   {
    "duration": 50,
    "start_time": "2023-03-30T19:28:03.479Z"
   },
   {
    "duration": 15,
    "start_time": "2023-03-30T19:28:03.530Z"
   },
   {
    "duration": 239,
    "start_time": "2023-03-30T19:28:03.546Z"
   },
   {
    "duration": 6,
    "start_time": "2023-03-30T19:28:03.786Z"
   },
   {
    "duration": 272,
    "start_time": "2023-03-30T19:28:03.794Z"
   },
   {
    "duration": 137,
    "start_time": "2023-03-30T19:28:04.069Z"
   },
   {
    "duration": 13,
    "start_time": "2023-03-30T19:28:04.207Z"
   },
   {
    "duration": 3,
    "start_time": "2023-03-30T19:28:04.223Z"
   },
   {
    "duration": 162,
    "start_time": "2023-03-30T19:28:04.228Z"
   },
   {
    "duration": 6,
    "start_time": "2023-03-30T19:28:04.392Z"
   },
   {
    "duration": 178,
    "start_time": "2023-03-30T19:28:04.400Z"
   },
   {
    "duration": 3,
    "start_time": "2023-03-30T19:28:04.580Z"
   },
   {
    "duration": 1195,
    "start_time": "2023-03-30T19:28:04.584Z"
   },
   {
    "duration": 12,
    "start_time": "2023-03-30T19:28:05.781Z"
   },
   {
    "duration": 49,
    "start_time": "2023-03-30T19:28:05.802Z"
   },
   {
    "duration": 7,
    "start_time": "2023-03-30T19:28:05.853Z"
   },
   {
    "duration": 33,
    "start_time": "2023-03-30T19:28:05.862Z"
   },
   {
    "duration": 7,
    "start_time": "2023-03-30T19:28:05.896Z"
   },
   {
    "duration": 3,
    "start_time": "2023-03-30T19:28:05.905Z"
   },
   {
    "duration": 1209,
    "start_time": "2023-03-30T19:28:05.911Z"
   },
   {
    "duration": 11,
    "start_time": "2023-03-30T19:28:07.122Z"
   },
   {
    "duration": 325,
    "start_time": "2023-03-30T19:28:07.134Z"
   },
   {
    "duration": 10,
    "start_time": "2023-03-30T19:28:07.461Z"
   },
   {
    "duration": 5,
    "start_time": "2023-03-30T19:28:07.475Z"
   },
   {
    "duration": 424,
    "start_time": "2023-03-30T19:28:07.481Z"
   },
   {
    "duration": 2,
    "start_time": "2023-03-30T19:28:07.908Z"
   },
   {
    "duration": 238,
    "start_time": "2023-03-30T19:28:07.912Z"
   },
   {
    "duration": 8,
    "start_time": "2023-03-30T19:28:08.152Z"
   },
   {
    "duration": 4,
    "start_time": "2023-03-30T19:28:08.161Z"
   },
   {
    "duration": 156,
    "start_time": "2023-03-30T19:28:08.167Z"
   },
   {
    "duration": 3,
    "start_time": "2023-03-30T19:28:08.325Z"
   },
   {
    "duration": 300,
    "start_time": "2023-03-30T19:28:08.330Z"
   },
   {
    "duration": 7,
    "start_time": "2023-03-30T19:28:08.632Z"
   },
   {
    "duration": 2145,
    "start_time": "2023-03-30T19:30:43.623Z"
   },
   {
    "duration": 1252,
    "start_time": "2023-03-30T19:30:45.771Z"
   },
   {
    "duration": 3,
    "start_time": "2023-03-30T19:30:47.025Z"
   },
   {
    "duration": 9063,
    "start_time": "2023-03-30T19:30:47.031Z"
   },
   {
    "duration": 43,
    "start_time": "2023-03-30T19:30:56.097Z"
   },
   {
    "duration": 22,
    "start_time": "2023-03-30T19:30:56.143Z"
   },
   {
    "duration": 234,
    "start_time": "2023-03-30T19:30:56.167Z"
   },
   {
    "duration": 10,
    "start_time": "2023-03-30T19:30:56.403Z"
   },
   {
    "duration": 293,
    "start_time": "2023-03-30T19:30:56.416Z"
   },
   {
    "duration": 143,
    "start_time": "2023-03-30T19:30:56.711Z"
   },
   {
    "duration": 12,
    "start_time": "2023-03-30T19:30:56.856Z"
   },
   {
    "duration": 6,
    "start_time": "2023-03-30T19:30:56.869Z"
   },
   {
    "duration": 164,
    "start_time": "2023-03-30T19:30:56.876Z"
   },
   {
    "duration": 8,
    "start_time": "2023-03-30T19:30:57.044Z"
   },
   {
    "duration": 188,
    "start_time": "2023-03-30T19:30:57.054Z"
   },
   {
    "duration": 2,
    "start_time": "2023-03-30T19:30:57.244Z"
   },
   {
    "duration": 1184,
    "start_time": "2023-03-30T19:30:57.248Z"
   },
   {
    "duration": 12,
    "start_time": "2023-03-30T19:30:58.434Z"
   },
   {
    "duration": 38,
    "start_time": "2023-03-30T19:30:58.448Z"
   },
   {
    "duration": 6,
    "start_time": "2023-03-30T19:30:58.488Z"
   },
   {
    "duration": 33,
    "start_time": "2023-03-30T19:30:58.496Z"
   },
   {
    "duration": 8,
    "start_time": "2023-03-30T19:30:58.530Z"
   },
   {
    "duration": 8,
    "start_time": "2023-03-30T19:30:58.540Z"
   },
   {
    "duration": 1144,
    "start_time": "2023-03-30T19:30:58.550Z"
   },
   {
    "duration": 18,
    "start_time": "2023-03-30T19:30:59.696Z"
   },
   {
    "duration": 332,
    "start_time": "2023-03-30T19:30:59.716Z"
   },
   {
    "duration": 11,
    "start_time": "2023-03-30T19:31:00.050Z"
   },
   {
    "duration": 8,
    "start_time": "2023-03-30T19:31:00.063Z"
   },
   {
    "duration": 422,
    "start_time": "2023-03-30T19:31:00.073Z"
   },
   {
    "duration": 2,
    "start_time": "2023-03-30T19:31:00.497Z"
   },
   {
    "duration": 252,
    "start_time": "2023-03-30T19:31:00.504Z"
   },
   {
    "duration": 8,
    "start_time": "2023-03-30T19:31:00.757Z"
   },
   {
    "duration": 41,
    "start_time": "2023-03-30T19:31:00.766Z"
   },
   {
    "duration": 170,
    "start_time": "2023-03-30T19:31:00.809Z"
   },
   {
    "duration": 3,
    "start_time": "2023-03-30T19:31:00.980Z"
   },
   {
    "duration": 303,
    "start_time": "2023-03-30T19:31:00.985Z"
   },
   {
    "duration": 7,
    "start_time": "2023-03-30T19:31:01.290Z"
   },
   {
    "duration": 6,
    "start_time": "2023-03-30T19:36:17.640Z"
   },
   {
    "duration": 1411,
    "start_time": "2023-03-30T19:36:23.354Z"
   },
   {
    "duration": 2166,
    "start_time": "2023-03-30T19:37:16.342Z"
   },
   {
    "duration": 1289,
    "start_time": "2023-03-30T19:37:18.511Z"
   },
   {
    "duration": 4,
    "start_time": "2023-03-30T19:37:19.802Z"
   },
   {
    "duration": 8608,
    "start_time": "2023-03-30T19:37:19.808Z"
   },
   {
    "duration": 31,
    "start_time": "2023-03-30T19:37:28.418Z"
   },
   {
    "duration": 16,
    "start_time": "2023-03-30T19:37:28.451Z"
   },
   {
    "duration": 232,
    "start_time": "2023-03-30T19:37:28.469Z"
   },
   {
    "duration": 7,
    "start_time": "2023-03-30T19:37:28.703Z"
   },
   {
    "duration": 263,
    "start_time": "2023-03-30T19:37:28.712Z"
   },
   {
    "duration": 128,
    "start_time": "2023-03-30T19:37:28.976Z"
   },
   {
    "duration": 13,
    "start_time": "2023-03-30T19:37:29.106Z"
   },
   {
    "duration": 2,
    "start_time": "2023-03-30T19:37:29.122Z"
   },
   {
    "duration": 153,
    "start_time": "2023-03-30T19:37:29.126Z"
   },
   {
    "duration": 7,
    "start_time": "2023-03-30T19:37:29.283Z"
   },
   {
    "duration": 172,
    "start_time": "2023-03-30T19:37:29.291Z"
   },
   {
    "duration": 2,
    "start_time": "2023-03-30T19:37:29.466Z"
   },
   {
    "duration": 1160,
    "start_time": "2023-03-30T19:37:29.470Z"
   },
   {
    "duration": 12,
    "start_time": "2023-03-30T19:37:30.632Z"
   },
   {
    "duration": 63,
    "start_time": "2023-03-30T19:37:30.645Z"
   },
   {
    "duration": 18,
    "start_time": "2023-03-30T19:37:30.709Z"
   },
   {
    "duration": 48,
    "start_time": "2023-03-30T19:37:30.729Z"
   },
   {
    "duration": 6,
    "start_time": "2023-03-30T19:37:30.779Z"
   },
   {
    "duration": 27,
    "start_time": "2023-03-30T19:37:30.786Z"
   },
   {
    "duration": 1189,
    "start_time": "2023-03-30T19:37:30.815Z"
   },
   {
    "duration": 15,
    "start_time": "2023-03-30T19:37:32.007Z"
   },
   {
    "duration": 317,
    "start_time": "2023-03-30T19:37:32.025Z"
   },
   {
    "duration": 12,
    "start_time": "2023-03-30T19:37:32.344Z"
   },
   {
    "duration": 6,
    "start_time": "2023-03-30T19:37:32.358Z"
   },
   {
    "duration": 431,
    "start_time": "2023-03-30T19:37:32.366Z"
   },
   {
    "duration": 4,
    "start_time": "2023-03-30T19:37:32.799Z"
   },
   {
    "duration": 236,
    "start_time": "2023-03-30T19:37:32.805Z"
   },
   {
    "duration": 8,
    "start_time": "2023-03-30T19:37:33.043Z"
   },
   {
    "duration": 7,
    "start_time": "2023-03-30T19:37:33.054Z"
   },
   {
    "duration": 140,
    "start_time": "2023-03-30T19:37:33.063Z"
   },
   {
    "duration": 4,
    "start_time": "2023-03-30T19:37:33.205Z"
   },
   {
    "duration": 303,
    "start_time": "2023-03-30T19:37:33.210Z"
   },
   {
    "duration": 8,
    "start_time": "2023-03-30T19:37:33.515Z"
   },
   {
    "duration": 2448,
    "start_time": "2023-03-31T18:37:54.147Z"
   },
   {
    "duration": 1448,
    "start_time": "2023-03-31T18:37:56.601Z"
   },
   {
    "duration": 3,
    "start_time": "2023-03-31T18:37:58.051Z"
   },
   {
    "duration": 9583,
    "start_time": "2023-03-31T18:37:58.056Z"
   },
   {
    "duration": 68,
    "start_time": "2023-03-31T18:38:07.641Z"
   },
   {
    "duration": 13,
    "start_time": "2023-03-31T18:38:07.711Z"
   },
   {
    "duration": 237,
    "start_time": "2023-03-31T18:38:07.725Z"
   },
   {
    "duration": 7,
    "start_time": "2023-03-31T18:38:07.964Z"
   },
   {
    "duration": 267,
    "start_time": "2023-03-31T18:38:07.973Z"
   },
   {
    "duration": 127,
    "start_time": "2023-03-31T18:38:08.243Z"
   },
   {
    "duration": 19,
    "start_time": "2023-03-31T18:38:08.372Z"
   },
   {
    "duration": 144,
    "start_time": "2023-03-31T18:38:08.395Z"
   },
   {
    "duration": 12,
    "start_time": "2023-03-31T18:38:08.541Z"
   },
   {
    "duration": 6,
    "start_time": "2023-03-31T18:38:08.555Z"
   },
   {
    "duration": 151,
    "start_time": "2023-03-31T18:38:08.562Z"
   },
   {
    "duration": 6,
    "start_time": "2023-03-31T18:38:08.714Z"
   },
   {
    "duration": 171,
    "start_time": "2023-03-31T18:38:08.722Z"
   },
   {
    "duration": 2,
    "start_time": "2023-03-31T18:38:08.897Z"
   },
   {
    "duration": 1209,
    "start_time": "2023-03-31T18:38:08.901Z"
   },
   {
    "duration": 13,
    "start_time": "2023-03-31T18:38:10.112Z"
   },
   {
    "duration": 42,
    "start_time": "2023-03-31T18:38:10.127Z"
   },
   {
    "duration": 16,
    "start_time": "2023-03-31T18:38:10.171Z"
   },
   {
    "duration": 37,
    "start_time": "2023-03-31T18:38:10.191Z"
   },
   {
    "duration": 6,
    "start_time": "2023-03-31T18:38:10.229Z"
   },
   {
    "duration": 5,
    "start_time": "2023-03-31T18:38:10.236Z"
   },
   {
    "duration": 1246,
    "start_time": "2023-03-31T18:38:10.243Z"
   },
   {
    "duration": 15,
    "start_time": "2023-03-31T18:38:11.491Z"
   },
   {
    "duration": 328,
    "start_time": "2023-03-31T18:38:11.509Z"
   },
   {
    "duration": 10,
    "start_time": "2023-03-31T18:38:11.838Z"
   },
   {
    "duration": 12,
    "start_time": "2023-03-31T18:38:11.850Z"
   },
   {
    "duration": 437,
    "start_time": "2023-03-31T18:38:11.864Z"
   },
   {
    "duration": 3,
    "start_time": "2023-03-31T18:38:12.303Z"
   },
   {
    "duration": 235,
    "start_time": "2023-03-31T18:38:12.308Z"
   },
   {
    "duration": 7,
    "start_time": "2023-03-31T18:38:12.546Z"
   },
   {
    "duration": 5,
    "start_time": "2023-03-31T18:38:12.554Z"
   },
   {
    "duration": 148,
    "start_time": "2023-03-31T18:38:12.561Z"
   },
   {
    "duration": 3,
    "start_time": "2023-03-31T18:38:12.711Z"
   },
   {
    "duration": 285,
    "start_time": "2023-03-31T18:38:12.715Z"
   },
   {
    "duration": 7,
    "start_time": "2023-03-31T18:38:13.002Z"
   },
   {
    "duration": 245,
    "start_time": "2023-03-31T18:43:40.801Z"
   },
   {
    "duration": 253,
    "start_time": "2023-03-31T18:43:54.853Z"
   },
   {
    "duration": 137,
    "start_time": "2023-03-31T18:44:21.219Z"
   },
   {
    "duration": 95,
    "start_time": "2023-03-31T18:47:37.548Z"
   },
   {
    "duration": 226,
    "start_time": "2023-03-31T18:47:51.936Z"
   },
   {
    "duration": 248,
    "start_time": "2023-03-31T18:48:00.024Z"
   },
   {
    "duration": 134,
    "start_time": "2023-03-31T18:50:34.729Z"
   },
   {
    "duration": 99,
    "start_time": "2023-03-31T18:50:38.000Z"
   },
   {
    "duration": 97,
    "start_time": "2023-03-31T18:50:49.618Z"
   },
   {
    "duration": 101,
    "start_time": "2023-03-31T18:50:56.563Z"
   },
   {
    "duration": 109,
    "start_time": "2023-03-31T18:51:56.692Z"
   },
   {
    "duration": 106,
    "start_time": "2023-03-31T18:52:00.952Z"
   },
   {
    "duration": 20,
    "start_time": "2023-03-31T18:52:12.390Z"
   },
   {
    "duration": 112,
    "start_time": "2023-03-31T18:52:15.699Z"
   },
   {
    "duration": 93,
    "start_time": "2023-03-31T18:52:33.233Z"
   },
   {
    "duration": 88,
    "start_time": "2023-03-31T18:53:32.262Z"
   },
   {
    "duration": 17,
    "start_time": "2023-03-31T18:53:43.101Z"
   },
   {
    "duration": 17,
    "start_time": "2023-03-31T18:54:47.799Z"
   },
   {
    "duration": 20,
    "start_time": "2023-03-31T18:54:53.662Z"
   },
   {
    "duration": 16,
    "start_time": "2023-03-31T18:54:54.839Z"
   },
   {
    "duration": 15,
    "start_time": "2023-03-31T18:54:55.749Z"
   },
   {
    "duration": 17,
    "start_time": "2023-03-31T18:54:56.527Z"
   },
   {
    "duration": 31,
    "start_time": "2023-03-31T18:54:57.358Z"
   },
   {
    "duration": 5,
    "start_time": "2023-03-31T18:55:06.601Z"
   },
   {
    "duration": 6,
    "start_time": "2023-03-31T18:55:15.185Z"
   },
   {
    "duration": 4,
    "start_time": "2023-03-31T18:55:16.304Z"
   },
   {
    "duration": 4,
    "start_time": "2023-03-31T18:55:17.016Z"
   },
   {
    "duration": 4,
    "start_time": "2023-03-31T18:55:17.600Z"
   },
   {
    "duration": 6,
    "start_time": "2023-03-31T18:55:18.247Z"
   },
   {
    "duration": 5,
    "start_time": "2023-03-31T18:55:18.851Z"
   },
   {
    "duration": 4,
    "start_time": "2023-03-31T18:55:19.464Z"
   },
   {
    "duration": 5,
    "start_time": "2023-03-31T18:55:20.100Z"
   },
   {
    "duration": 5,
    "start_time": "2023-03-31T18:55:20.767Z"
   },
   {
    "duration": 9,
    "start_time": "2023-03-31T18:55:21.391Z"
   },
   {
    "duration": 5,
    "start_time": "2023-03-31T18:55:21.957Z"
   },
   {
    "duration": 5,
    "start_time": "2023-03-31T18:55:22.548Z"
   },
   {
    "duration": 5,
    "start_time": "2023-03-31T18:55:23.396Z"
   },
   {
    "duration": 5,
    "start_time": "2023-03-31T18:55:24.159Z"
   },
   {
    "duration": 5,
    "start_time": "2023-03-31T18:55:24.830Z"
   },
   {
    "duration": 5,
    "start_time": "2023-03-31T18:55:25.599Z"
   },
   {
    "duration": 5,
    "start_time": "2023-03-31T18:55:26.224Z"
   },
   {
    "duration": 4,
    "start_time": "2023-03-31T18:55:26.813Z"
   },
   {
    "duration": 16,
    "start_time": "2023-03-31T18:55:30.710Z"
   },
   {
    "duration": 16,
    "start_time": "2023-03-31T18:55:32.349Z"
   },
   {
    "duration": 17,
    "start_time": "2023-03-31T18:55:32.958Z"
   },
   {
    "duration": 4,
    "start_time": "2023-03-31T18:55:33.445Z"
   },
   {
    "duration": 23,
    "start_time": "2023-03-31T18:55:34.093Z"
   },
   {
    "duration": 16,
    "start_time": "2023-03-31T18:55:34.856Z"
   },
   {
    "duration": 17,
    "start_time": "2023-03-31T18:55:35.517Z"
   },
   {
    "duration": 18,
    "start_time": "2023-03-31T18:55:36.120Z"
   },
   {
    "duration": 7521,
    "start_time": "2023-03-31T18:55:42.024Z"
   },
   {
    "duration": 4601,
    "start_time": "2023-03-31T18:55:51.416Z"
   },
   {
    "duration": 8930,
    "start_time": "2023-03-31T18:55:57.693Z"
   },
   {
    "duration": 1316,
    "start_time": "2023-03-31T18:56:11.103Z"
   },
   {
    "duration": 1345,
    "start_time": "2023-03-31T18:56:15.501Z"
   },
   {
    "duration": 1322,
    "start_time": "2023-03-31T18:56:18.448Z"
   },
   {
    "duration": 1365,
    "start_time": "2023-03-31T18:56:21.352Z"
   },
   {
    "duration": 1353,
    "start_time": "2023-03-31T18:56:25.119Z"
   },
   {
    "duration": 1336,
    "start_time": "2023-03-31T18:56:31.407Z"
   },
   {
    "duration": 1499,
    "start_time": "2023-03-31T18:56:33.902Z"
   },
   {
    "duration": 1375,
    "start_time": "2023-03-31T18:56:36.367Z"
   },
   {
    "duration": 1320,
    "start_time": "2023-03-31T18:56:38.622Z"
   },
   {
    "duration": 1341,
    "start_time": "2023-03-31T18:56:40.704Z"
   },
   {
    "duration": 1312,
    "start_time": "2023-03-31T18:56:42.718Z"
   },
   {
    "duration": 1413,
    "start_time": "2023-03-31T18:56:44.806Z"
   },
   {
    "duration": 1336,
    "start_time": "2023-03-31T18:56:47.098Z"
   },
   {
    "duration": 1394,
    "start_time": "2023-03-31T18:56:49.826Z"
   },
   {
    "duration": 1359,
    "start_time": "2023-03-31T18:56:51.959Z"
   },
   {
    "duration": 1408,
    "start_time": "2023-03-31T18:56:54.040Z"
   },
   {
    "duration": 1331,
    "start_time": "2023-03-31T18:57:00.507Z"
   },
   {
    "duration": 1321,
    "start_time": "2023-03-31T18:57:02.638Z"
   },
   {
    "duration": 1420,
    "start_time": "2023-03-31T18:57:05.117Z"
   },
   {
    "duration": 1326,
    "start_time": "2023-03-31T18:57:07.222Z"
   },
   {
    "duration": 2168,
    "start_time": "2023-03-31T19:16:29.562Z"
   },
   {
    "duration": 1238,
    "start_time": "2023-03-31T19:16:31.732Z"
   },
   {
    "duration": 6,
    "start_time": "2023-03-31T19:16:32.974Z"
   },
   {
    "duration": 8473,
    "start_time": "2023-03-31T19:16:32.993Z"
   },
   {
    "duration": 64,
    "start_time": "2023-03-31T19:16:41.469Z"
   },
   {
    "duration": 15,
    "start_time": "2023-03-31T19:16:41.534Z"
   },
   {
    "duration": 244,
    "start_time": "2023-03-31T19:16:41.550Z"
   },
   {
    "duration": 6,
    "start_time": "2023-03-31T19:16:41.796Z"
   },
   {
    "duration": 264,
    "start_time": "2023-03-31T19:16:41.804Z"
   },
   {
    "duration": 145,
    "start_time": "2023-03-31T19:16:42.070Z"
   },
   {
    "duration": 14,
    "start_time": "2023-03-31T19:16:42.217Z"
   },
   {
    "duration": 141,
    "start_time": "2023-03-31T19:16:42.233Z"
   },
   {
    "duration": 20,
    "start_time": "2023-03-31T19:16:42.382Z"
   },
   {
    "duration": 3,
    "start_time": "2023-03-31T19:16:42.406Z"
   },
   {
    "duration": 156,
    "start_time": "2023-03-31T19:16:42.411Z"
   },
   {
    "duration": 19,
    "start_time": "2023-03-31T19:16:42.569Z"
   },
   {
    "duration": 195,
    "start_time": "2023-03-31T19:16:42.592Z"
   },
   {
    "duration": 6,
    "start_time": "2023-03-31T19:16:42.788Z"
   },
   {
    "duration": 1257,
    "start_time": "2023-03-31T19:16:42.796Z"
   },
   {
    "duration": 29,
    "start_time": "2023-03-31T19:16:44.055Z"
   },
   {
    "duration": 45,
    "start_time": "2023-03-31T19:16:44.092Z"
   },
   {
    "duration": 11,
    "start_time": "2023-03-31T19:16:44.139Z"
   },
   {
    "duration": 40,
    "start_time": "2023-03-31T19:16:44.153Z"
   },
   {
    "duration": 8,
    "start_time": "2023-03-31T19:16:44.195Z"
   },
   {
    "duration": 3,
    "start_time": "2023-03-31T19:16:44.208Z"
   },
   {
    "duration": 1195,
    "start_time": "2023-03-31T19:16:44.213Z"
   },
   {
    "duration": 11,
    "start_time": "2023-03-31T19:16:45.410Z"
   },
   {
    "duration": 307,
    "start_time": "2023-03-31T19:16:45.423Z"
   },
   {
    "duration": 13,
    "start_time": "2023-03-31T19:16:45.732Z"
   },
   {
    "duration": 9,
    "start_time": "2023-03-31T19:16:45.747Z"
   },
   {
    "duration": 413,
    "start_time": "2023-03-31T19:16:45.759Z"
   },
   {
    "duration": 7,
    "start_time": "2023-03-31T19:16:46.174Z"
   },
   {
    "duration": 246,
    "start_time": "2023-03-31T19:16:46.185Z"
   },
   {
    "duration": 9,
    "start_time": "2023-03-31T19:16:46.433Z"
   },
   {
    "duration": 4,
    "start_time": "2023-03-31T19:16:46.444Z"
   },
   {
    "duration": 144,
    "start_time": "2023-03-31T19:16:46.450Z"
   },
   {
    "duration": 4,
    "start_time": "2023-03-31T19:16:46.597Z"
   },
   {
    "duration": 257,
    "start_time": "2023-03-31T19:16:46.603Z"
   },
   {
    "duration": 7,
    "start_time": "2023-03-31T19:16:46.861Z"
   },
   {
    "duration": 7,
    "start_time": "2023-03-31T19:29:07.723Z"
   },
   {
    "duration": 1314,
    "start_time": "2023-03-31T19:29:10.239Z"
   },
   {
    "duration": 136,
    "start_time": "2023-03-31T19:29:25.333Z"
   },
   {
    "duration": 127,
    "start_time": "2023-03-31T19:33:37.730Z"
   },
   {
    "duration": 14,
    "start_time": "2023-03-31T19:33:38.840Z"
   },
   {
    "duration": 2262,
    "start_time": "2023-03-31T19:35:04.525Z"
   },
   {
    "duration": 1283,
    "start_time": "2023-03-31T19:35:06.789Z"
   },
   {
    "duration": 4,
    "start_time": "2023-03-31T19:35:08.074Z"
   },
   {
    "duration": 16576,
    "start_time": "2023-03-31T19:35:08.080Z"
   },
   {
    "duration": 76,
    "start_time": "2023-03-31T19:35:24.658Z"
   },
   {
    "duration": 13,
    "start_time": "2023-03-31T19:35:24.736Z"
   },
   {
    "duration": 248,
    "start_time": "2023-03-31T19:35:24.751Z"
   },
   {
    "duration": 6,
    "start_time": "2023-03-31T19:35:25.001Z"
   },
   {
    "duration": 246,
    "start_time": "2023-03-31T19:35:25.009Z"
   },
   {
    "duration": 137,
    "start_time": "2023-03-31T19:35:25.258Z"
   },
   {
    "duration": 12,
    "start_time": "2023-03-31T19:35:25.397Z"
   },
   {
    "duration": 146,
    "start_time": "2023-03-31T19:35:25.410Z"
   },
   {
    "duration": 12,
    "start_time": "2023-03-31T19:35:25.558Z"
   },
   {
    "duration": 2,
    "start_time": "2023-03-31T19:35:25.572Z"
   },
   {
    "duration": 162,
    "start_time": "2023-03-31T19:35:25.576Z"
   },
   {
    "duration": 6,
    "start_time": "2023-03-31T19:35:25.740Z"
   },
   {
    "duration": 161,
    "start_time": "2023-03-31T19:35:25.748Z"
   },
   {
    "duration": 3,
    "start_time": "2023-03-31T19:35:25.910Z"
   },
   {
    "duration": 1190,
    "start_time": "2023-03-31T19:35:25.915Z"
   },
   {
    "duration": 11,
    "start_time": "2023-03-31T19:35:27.107Z"
   },
   {
    "duration": 39,
    "start_time": "2023-03-31T19:35:27.120Z"
   },
   {
    "duration": 7,
    "start_time": "2023-03-31T19:35:27.161Z"
   },
   {
    "duration": 30,
    "start_time": "2023-03-31T19:35:27.169Z"
   },
   {
    "duration": 5,
    "start_time": "2023-03-31T19:35:27.201Z"
   },
   {
    "duration": 4,
    "start_time": "2023-03-31T19:35:27.208Z"
   },
   {
    "duration": 1216,
    "start_time": "2023-03-31T19:35:27.213Z"
   },
   {
    "duration": 12,
    "start_time": "2023-03-31T19:35:28.431Z"
   },
   {
    "duration": 312,
    "start_time": "2023-03-31T19:35:28.446Z"
   },
   {
    "duration": 11,
    "start_time": "2023-03-31T19:35:28.759Z"
   },
   {
    "duration": 14,
    "start_time": "2023-03-31T19:35:28.772Z"
   },
   {
    "duration": 376,
    "start_time": "2023-03-31T19:35:28.788Z"
   },
   {
    "duration": 9,
    "start_time": "2023-03-31T19:35:29.166Z"
   },
   {
    "duration": 233,
    "start_time": "2023-03-31T19:35:29.177Z"
   },
   {
    "duration": 8,
    "start_time": "2023-03-31T19:35:29.412Z"
   },
   {
    "duration": 8,
    "start_time": "2023-03-31T19:35:29.422Z"
   },
   {
    "duration": 152,
    "start_time": "2023-03-31T19:35:29.432Z"
   },
   {
    "duration": 3,
    "start_time": "2023-03-31T19:35:29.586Z"
   },
   {
    "duration": 270,
    "start_time": "2023-03-31T19:35:29.590Z"
   },
   {
    "duration": 7,
    "start_time": "2023-03-31T19:35:29.861Z"
   }
  ],
  "colab": {
   "provenance": []
  },
  "kernelspec": {
   "display_name": "Python 3 (ipykernel)",
   "language": "python",
   "name": "python3"
  },
  "language_info": {
   "codemirror_mode": {
    "name": "ipython",
    "version": 3
   },
   "file_extension": ".py",
   "mimetype": "text/x-python",
   "name": "python",
   "nbconvert_exporter": "python",
   "pygments_lexer": "ipython3",
   "version": "3.9.5"
  },
  "toc": {
   "base_numbering": 1,
   "nav_menu": {},
   "number_sections": true,
   "sideBar": true,
   "skip_h1_title": true,
   "title_cell": "Table of Contents",
   "title_sidebar": "Contents",
   "toc_cell": false,
   "toc_position": {},
   "toc_section_display": true,
   "toc_window_display": false
  }
 },
 "nbformat": 4,
 "nbformat_minor": 1
}
